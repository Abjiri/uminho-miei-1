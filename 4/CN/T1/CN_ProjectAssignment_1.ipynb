{
  "cells": [
    {
      "cell_type": "markdown",
      "metadata": {
        "id": "XEG-aKRH_S3r",
        "colab_type": "text"
      },
      "source": [
        "# Project 1\n",
        "\n",
        "## Predict whether a mammogram mass is benign or malignant\n",
        "\n",
        "We'll be using the \"mammographic masses\" public dataset.\n",
        "\n",
        "This data contains 961 instances of masses detected in mammograms, and contains the following attributes:\n",
        "\n",
        "\n",
        "   1. BI-RADS assessment: 1 to 5 (ordinal)  \n",
        "   2. Age: patient's age in years (integer)\n",
        "   3. Shape: mass shape: round=1 oval=2 lobular=3 irregular=4 (nominal)\n",
        "   4. Margin: mass margin: circumscribed=1 microlobulated=2 obscured=3 ill-defined=4 spiculated=5 (nominal)\n",
        "   5. Density: mass density high=1 iso=2 low=3 fat-containing=4 (ordinal)\n",
        "   6. Severity: benign=0 or malignant=1 (binominal)\n",
        "   \n",
        "BI-RADS is an assesment of how confident the severity classification is; it is not a \"predictive\" attribute and so we will discard it. The age, shape, margin, and density attributes are the features that we will build our model with, and \"severity\" is the classification we will attempt to predict based on those attributes.\n",
        "\n",
        "Although \"shape\" and \"margin\" are nominal data types, which sklearn typically doesn't deal with well, they are close enough to ordinal that we shouldn't just discard them. The \"shape\" for example is ordered increasingly from round to irregular.\n",
        "\n",
        "A lot of unnecessary anguish and surgery arises from false positives arising from mammogram results. \n",
        "\n",
        "Build a better way to interpret them through supervised machine learning.\n",
        "\n",
        "## Your assignment\n",
        "\n",
        "Apply Artificial Neural Network supervised machine learning techniques to this data set and validate it by applying K-Fold cross validation (K=10).\n",
        "\n",
        "The data needs to be cleaned; many rows contain missing data, and there may be erroneous data identifiable as outliers as well.\n",
        "\n",
        "Many optimization techniques provide the means of \"hyperparameters\" to be tuned (e.g. Genetic Algorithms). Once you identify a promising approach, see if you can make it even better by tuning its hyperparameters.\n",
        "\n",
        "Below it's described the set of steps that outline the development of this project, with some guidance and hints. If you're up for a real challenge, try doing this project from scratch in a new, clean notebook!\n"
      ]
    },
    {
      "cell_type": "markdown",
      "metadata": {
        "id": "ElMb8Ceg_S30",
        "colab_type": "text"
      },
      "source": [
        "## Let's begin: prepare your data\n",
        "\n",
        "Start by importing the mammographic_masses.data.txt file into a Pandas dataframe (hint: use read_csv) and take a look at it."
      ]
    },
    {
      "cell_type": "code",
      "metadata": {
        "id": "gHXYbrLa_S37",
        "colab_type": "code",
        "outputId": "6658ba43-0120-4cbf-d49f-ec9cfe522045",
        "colab": {
          "base_uri": "https://localhost:8080/",
          "height": 333
        }
      },
      "source": [
        "import pandas as pd\n",
        "import seaborn as sb\n",
        "import matplotlib.pyplot as plt\n",
        "import numpy as np\n",
        "\n",
        "from google.colab import drive\n",
        "drive.mount('/content/drive')\n",
        "data = pd.read_csv('/content/drive/My Drive/mammographic_masses.data.txt', na_values='?')\n",
        "data.head()"
      ],
      "execution_count": 0,
      "outputs": [
        {
          "output_type": "stream",
          "text": [
            "/usr/local/lib/python3.6/dist-packages/statsmodels/tools/_testing.py:19: FutureWarning: pandas.util.testing is deprecated. Use the functions in the public API at pandas.testing instead.\n",
            "  import pandas.util.testing as tm\n"
          ],
          "name": "stderr"
        },
        {
          "output_type": "stream",
          "text": [
            "Go to this URL in a browser: https://accounts.google.com/o/oauth2/auth?client_id=947318989803-6bn6qk8qdgf4n4g3pfee6491hc0brc4i.apps.googleusercontent.com&redirect_uri=urn%3aietf%3awg%3aoauth%3a2.0%3aoob&response_type=code&scope=email%20https%3a%2f%2fwww.googleapis.com%2fauth%2fdocs.test%20https%3a%2f%2fwww.googleapis.com%2fauth%2fdrive%20https%3a%2f%2fwww.googleapis.com%2fauth%2fdrive.photos.readonly%20https%3a%2f%2fwww.googleapis.com%2fauth%2fpeopleapi.readonly\n",
            "\n",
            "Enter your authorization code:\n",
            "··········\n",
            "Mounted at /content/drive\n"
          ],
          "name": "stdout"
        },
        {
          "output_type": "execute_result",
          "data": {
            "text/html": [
              "<div>\n",
              "<style scoped>\n",
              "    .dataframe tbody tr th:only-of-type {\n",
              "        vertical-align: middle;\n",
              "    }\n",
              "\n",
              "    .dataframe tbody tr th {\n",
              "        vertical-align: top;\n",
              "    }\n",
              "\n",
              "    .dataframe thead th {\n",
              "        text-align: right;\n",
              "    }\n",
              "</style>\n",
              "<table border=\"1\" class=\"dataframe\">\n",
              "  <thead>\n",
              "    <tr style=\"text-align: right;\">\n",
              "      <th></th>\n",
              "      <th>5</th>\n",
              "      <th>67</th>\n",
              "      <th>3</th>\n",
              "      <th>5.1</th>\n",
              "      <th>3.1</th>\n",
              "      <th>1</th>\n",
              "    </tr>\n",
              "  </thead>\n",
              "  <tbody>\n",
              "    <tr>\n",
              "      <th>0</th>\n",
              "      <td>4.0</td>\n",
              "      <td>43.0</td>\n",
              "      <td>1.0</td>\n",
              "      <td>1.0</td>\n",
              "      <td>NaN</td>\n",
              "      <td>1</td>\n",
              "    </tr>\n",
              "    <tr>\n",
              "      <th>1</th>\n",
              "      <td>5.0</td>\n",
              "      <td>58.0</td>\n",
              "      <td>4.0</td>\n",
              "      <td>5.0</td>\n",
              "      <td>3.0</td>\n",
              "      <td>1</td>\n",
              "    </tr>\n",
              "    <tr>\n",
              "      <th>2</th>\n",
              "      <td>4.0</td>\n",
              "      <td>28.0</td>\n",
              "      <td>1.0</td>\n",
              "      <td>1.0</td>\n",
              "      <td>3.0</td>\n",
              "      <td>0</td>\n",
              "    </tr>\n",
              "    <tr>\n",
              "      <th>3</th>\n",
              "      <td>5.0</td>\n",
              "      <td>74.0</td>\n",
              "      <td>1.0</td>\n",
              "      <td>5.0</td>\n",
              "      <td>NaN</td>\n",
              "      <td>1</td>\n",
              "    </tr>\n",
              "    <tr>\n",
              "      <th>4</th>\n",
              "      <td>4.0</td>\n",
              "      <td>65.0</td>\n",
              "      <td>1.0</td>\n",
              "      <td>NaN</td>\n",
              "      <td>3.0</td>\n",
              "      <td>0</td>\n",
              "    </tr>\n",
              "  </tbody>\n",
              "</table>\n",
              "</div>"
            ],
            "text/plain": [
              "     5    67    3  5.1  3.1  1\n",
              "0  4.0  43.0  1.0  1.0  NaN  1\n",
              "1  5.0  58.0  4.0  5.0  3.0  1\n",
              "2  4.0  28.0  1.0  1.0  3.0  0\n",
              "3  5.0  74.0  1.0  5.0  NaN  1\n",
              "4  4.0  65.0  1.0  NaN  3.0  0"
            ]
          },
          "metadata": {
            "tags": []
          },
          "execution_count": 1
        }
      ]
    },
    {
      "cell_type": "markdown",
      "metadata": {
        "id": "8bkXmoz4_S4P",
        "colab_type": "text"
      },
      "source": [
        "Make sure you use the optional parmaters in read_csv to convert missing data (indicated by a ?) into NaN, and to add the appropriate column names (BI_RADS, age, shape, margin, density, and severity):"
      ]
    },
    {
      "cell_type": "code",
      "metadata": {
        "id": "rddKLAwE_S4U",
        "colab_type": "code",
        "outputId": "6cf6bbe3-1758-447c-cae2-1754ae898044",
        "colab": {
          "base_uri": "https://localhost:8080/",
          "height": 195
        }
      },
      "source": [
        "data.columns = ['BI-RADS', 'Age', 'Shape', 'Margin', 'Density', 'Severity']\n",
        "data = data.drop(['BI-RADS'], axis=1)\n",
        "data.head()"
      ],
      "execution_count": 0,
      "outputs": [
        {
          "output_type": "execute_result",
          "data": {
            "text/html": [
              "<div>\n",
              "<style scoped>\n",
              "    .dataframe tbody tr th:only-of-type {\n",
              "        vertical-align: middle;\n",
              "    }\n",
              "\n",
              "    .dataframe tbody tr th {\n",
              "        vertical-align: top;\n",
              "    }\n",
              "\n",
              "    .dataframe thead th {\n",
              "        text-align: right;\n",
              "    }\n",
              "</style>\n",
              "<table border=\"1\" class=\"dataframe\">\n",
              "  <thead>\n",
              "    <tr style=\"text-align: right;\">\n",
              "      <th></th>\n",
              "      <th>Age</th>\n",
              "      <th>Shape</th>\n",
              "      <th>Margin</th>\n",
              "      <th>Density</th>\n",
              "      <th>Severity</th>\n",
              "    </tr>\n",
              "  </thead>\n",
              "  <tbody>\n",
              "    <tr>\n",
              "      <th>0</th>\n",
              "      <td>43.0</td>\n",
              "      <td>1.0</td>\n",
              "      <td>1.0</td>\n",
              "      <td>NaN</td>\n",
              "      <td>1</td>\n",
              "    </tr>\n",
              "    <tr>\n",
              "      <th>1</th>\n",
              "      <td>58.0</td>\n",
              "      <td>4.0</td>\n",
              "      <td>5.0</td>\n",
              "      <td>3.0</td>\n",
              "      <td>1</td>\n",
              "    </tr>\n",
              "    <tr>\n",
              "      <th>2</th>\n",
              "      <td>28.0</td>\n",
              "      <td>1.0</td>\n",
              "      <td>1.0</td>\n",
              "      <td>3.0</td>\n",
              "      <td>0</td>\n",
              "    </tr>\n",
              "    <tr>\n",
              "      <th>3</th>\n",
              "      <td>74.0</td>\n",
              "      <td>1.0</td>\n",
              "      <td>5.0</td>\n",
              "      <td>NaN</td>\n",
              "      <td>1</td>\n",
              "    </tr>\n",
              "    <tr>\n",
              "      <th>4</th>\n",
              "      <td>65.0</td>\n",
              "      <td>1.0</td>\n",
              "      <td>NaN</td>\n",
              "      <td>3.0</td>\n",
              "      <td>0</td>\n",
              "    </tr>\n",
              "  </tbody>\n",
              "</table>\n",
              "</div>"
            ],
            "text/plain": [
              "    Age  Shape  Margin  Density  Severity\n",
              "0  43.0    1.0     1.0      NaN         1\n",
              "1  58.0    4.0     5.0      3.0         1\n",
              "2  28.0    1.0     1.0      3.0         0\n",
              "3  74.0    1.0     5.0      NaN         1\n",
              "4  65.0    1.0     NaN      3.0         0"
            ]
          },
          "metadata": {
            "tags": []
          },
          "execution_count": 2
        }
      ]
    },
    {
      "cell_type": "markdown",
      "metadata": {
        "id": "0lr39sWD_S4h",
        "colab_type": "text"
      },
      "source": [
        "Evaluate whether the data needs cleaning; your model is only as good as the data it's given. Hint: use describe() on the dataframe."
      ]
    },
    {
      "cell_type": "code",
      "metadata": {
        "id": "JvMvinMI_S4m",
        "colab_type": "code",
        "outputId": "3d195974-5cd5-4d42-a664-0ac623f5b17c",
        "colab": {
          "base_uri": "https://localhost:8080/",
          "height": 67
        }
      },
      "source": [
        "#print(data.isna().sum())\n",
        "#print(data.describe())\n",
        "print(data['Severity'].value_counts())"
      ],
      "execution_count": 0,
      "outputs": [
        {
          "output_type": "stream",
          "text": [
            "0    516\n",
            "1    444\n",
            "Name: Severity, dtype: int64\n"
          ],
          "name": "stdout"
        }
      ]
    },
    {
      "cell_type": "markdown",
      "metadata": {
        "id": "UKdVmYmy_S4x",
        "colab_type": "text"
      },
      "source": [
        "There are quite a few missing values in the data set. Before we just drop every row that's missing data, let's make sure we don't bias our data in doing so."
      ]
    },
    {
      "cell_type": "code",
      "metadata": {
        "id": "kyszaiuPg1_a",
        "colab_type": "code",
        "colab": {}
      },
      "source": [
        "missing_values = data.loc[(data['Age'].isnull()) |\n",
        "              (data['Shape'].isnull()) |\n",
        "              (data['Margin'].isnull()) |\n",
        "              (data['Density'].isnull())]"
      ],
      "execution_count": 0,
      "outputs": []
    },
    {
      "cell_type": "code",
      "metadata": {
        "id": "nBzpNruPlEXp",
        "colab_type": "code",
        "outputId": "3f9b77da-07a6-4523-c04f-e556f037cbfb",
        "colab": {
          "base_uri": "https://localhost:8080/",
          "height": 168
        }
      },
      "source": [
        "print(missing_values.describe())"
      ],
      "execution_count": 0,
      "outputs": [
        {
          "output_type": "stream",
          "text": [
            "              Age      Shape     Margin    Density    Severity\n",
            "count  125.000000  99.000000  82.000000  54.000000  130.000000\n",
            "mean    53.560000   2.202020   2.609756   2.833333    0.323077\n",
            "std     13.087423   1.124675   1.561545   0.693637    0.469461\n",
            "min     23.000000   1.000000   1.000000   1.000000    0.000000\n",
            "25%     43.000000   1.000000   1.000000   3.000000    0.000000\n",
            "50%     55.000000   2.000000   3.000000   3.000000    0.000000\n",
            "75%     63.000000   3.000000   4.000000   3.000000    1.000000\n",
            "max     82.000000   4.000000   5.000000   4.000000    1.000000\n"
          ],
          "name": "stdout"
        }
      ]
    },
    {
      "cell_type": "code",
      "metadata": {
        "id": "PazrsBRNlc5C",
        "colab_type": "code",
        "outputId": "b77a9b5a-aaf4-489f-e68a-fae5c4c4d27c",
        "colab": {
          "base_uri": "https://localhost:8080/",
          "height": 296
        }
      },
      "source": [
        "sb.scatterplot(x='Margin',y='Shape', data=missing_values)"
      ],
      "execution_count": 0,
      "outputs": [
        {
          "output_type": "execute_result",
          "data": {
            "text/plain": [
              "<matplotlib.axes._subplots.AxesSubplot at 0x7facfa5681d0>"
            ]
          },
          "metadata": {
            "tags": []
          },
          "execution_count": 6
        },
        {
          "output_type": "display_data",
          "data": {
            "image/png": "[encoded data removed]",
            "text/plain": [
              "<Figure size 432x288 with 1 Axes>"
            ]
          },
          "metadata": {
            "tags": [],
            "needs_background": "light"
          }
        }
      ]
    },
    {
      "cell_type": "code",
      "metadata": {
        "id": "YlN5XMdYlkHE",
        "colab_type": "code",
        "outputId": "263c2962-f391-49ff-f2e3-78268f20d90d",
        "colab": {
          "base_uri": "https://localhost:8080/",
          "height": 296
        }
      },
      "source": [
        "sb.scatterplot(x='Margin',y='Shape', data=data)"
      ],
      "execution_count": 0,
      "outputs": [
        {
          "output_type": "execute_result",
          "data": {
            "text/plain": [
              "<matplotlib.axes._subplots.AxesSubplot at 0x7facfa544be0>"
            ]
          },
          "metadata": {
            "tags": []
          },
          "execution_count": 7
        },
        {
          "output_type": "display_data",
          "data": {
            "image/png": "[encoded data removed]",
            "text/plain": [
              "<Figure size 432x288 with 1 Axes>"
            ]
          },
          "metadata": {
            "tags": [],
            "needs_background": "light"
          }
        }
      ]
    },
    {
      "cell_type": "code",
      "metadata": {
        "id": "Zeb79p25_S41",
        "colab_type": "code",
        "outputId": "a1899a76-41c0-472a-b7e1-c425a3af0ccc",
        "colab": {
          "base_uri": "https://localhost:8080/",
          "height": 286
        }
      },
      "source": [
        "tmp = data\n",
        "tmp['Density'] = tmp['Density'].replace(np.nan, 5)\n",
        "tmp['Margin'] = tmp['Margin'].replace(np.nan, 6)\n",
        "tmp['Shape'] = tmp['Shape'].replace(np.nan, 5)\n",
        "tmp['Age'] = tmp['Age'].replace(np.nan, 100)\n",
        "\n",
        "print(tmp)\n",
        "\n",
        "plt.figure(figsize=(16, 6))\n",
        "#sb.distplot(data['Density'],bins=30)\n",
        "#sb.scatterplot(x='Shape',y='Density', hue='Severity', data=tmp)"
      ],
      "execution_count": 0,
      "outputs": [
        {
          "output_type": "stream",
          "text": [
            "      Age  Shape  Margin  Density  Severity\n",
            "0    43.0    1.0     1.0      5.0         1\n",
            "1    58.0    4.0     5.0      3.0         1\n",
            "2    28.0    1.0     1.0      3.0         0\n",
            "3    74.0    1.0     5.0      5.0         1\n",
            "4    65.0    1.0     6.0      3.0         0\n",
            "..    ...    ...     ...      ...       ...\n",
            "955  47.0    2.0     1.0      3.0         0\n",
            "956  56.0    4.0     5.0      3.0         1\n",
            "957  64.0    4.0     5.0      3.0         0\n",
            "958  66.0    4.0     5.0      3.0         1\n",
            "959  62.0    3.0     3.0      3.0         0\n",
            "\n",
            "[960 rows x 5 columns]\n"
          ],
          "name": "stdout"
        },
        {
          "output_type": "execute_result",
          "data": {
            "text/plain": [
              "<Figure size 1152x432 with 0 Axes>"
            ]
          },
          "metadata": {
            "tags": []
          },
          "execution_count": 8
        },
        {
          "output_type": "display_data",
          "data": {
            "text/plain": [
              "<Figure size 1152x432 with 0 Axes>"
            ]
          },
          "metadata": {
            "tags": []
          }
        }
      ]
    },
    {
      "cell_type": "code",
      "metadata": {
        "id": "dzzFCsEFPVb7",
        "colab_type": "code",
        "outputId": "afe583b8-36bc-4d6e-9c27-27211cf109be",
        "colab": {
          "base_uri": "https://localhost:8080/",
          "height": 405
        }
      },
      "source": [
        "plt.figure(figsize=(16, 6))\n",
        "sb.violinplot(x='Shape',y='Margin',data=tmp, hue='Severity', inner='point')\n",
        "\n",
        "# tmp[tmp['Shape'] == 4][tmp['Margin'] == 1].info()"
      ],
      "execution_count": 0,
      "outputs": [
        {
          "output_type": "execute_result",
          "data": {
            "text/plain": [
              "<matplotlib.axes._subplots.AxesSubplot at 0x7facf7cb43c8>"
            ]
          },
          "metadata": {
            "tags": []
          },
          "execution_count": 9
        },
        {
          "output_type": "display_data",
          "data": {
            "image/png": "[encoded data removed]",
            "text/plain": [
              "<Figure size 1152x432 with 1 Axes>"
            ]
          },
          "metadata": {
            "tags": [],
            "needs_background": "light"
          }
        }
      ]
    },
    {
      "cell_type": "code",
      "metadata": {
        "id": "rdU96VsdxMfZ",
        "colab_type": "code",
        "outputId": "ed2595fe-b64e-4a48-f7e6-b12d58e851d8",
        "colab": {
          "base_uri": "https://localhost:8080/",
          "height": 408
        }
      },
      "source": [
        "plt.figure(figsize=(16, 6))\n",
        "sb.violinplot(x='Shape',y='Density',data=tmp, hue='Severity', inner='point')"
      ],
      "execution_count": 0,
      "outputs": [
        {
          "output_type": "execute_result",
          "data": {
            "text/plain": [
              "<matplotlib.axes._subplots.AxesSubplot at 0x7facfadfadd8>"
            ]
          },
          "metadata": {
            "tags": []
          },
          "execution_count": 10
        },
        {
          "output_type": "display_data",
          "data": {
            "image/png": "[encoded data removed]",
            "text/plain": [
              "<Figure size 1152x432 with 1 Axes>"
            ]
          },
          "metadata": {
            "tags": [],
            "needs_background": "light"
          }
        }
      ]
    },
    {
      "cell_type": "code",
      "metadata": {
        "id": "NgPo5l6hxNzd",
        "colab_type": "code",
        "outputId": "42b7df72-0461-4835-db91-7613333df275",
        "colab": {
          "base_uri": "https://localhost:8080/",
          "height": 405
        }
      },
      "source": [
        "plt.figure(figsize=(16, 6))\n",
        "sb.violinplot(x='Density',y='Margin',data=tmp, hue='Severity', inner='point')"
      ],
      "execution_count": 0,
      "outputs": [
        {
          "output_type": "execute_result",
          "data": {
            "text/plain": [
              "<matplotlib.axes._subplots.AxesSubplot at 0x7facf77e2ef0>"
            ]
          },
          "metadata": {
            "tags": []
          },
          "execution_count": 11
        },
        {
          "output_type": "display_data",
          "data": {
            "image/png": "[encoded data removed]",
            "text/plain": [
              "<Figure size 1152x432 with 1 Axes>"
            ]
          },
          "metadata": {
            "tags": [],
            "needs_background": "light"
          }
        }
      ]
    },
    {
      "cell_type": "code",
      "metadata": {
        "id": "0VG0udYe5T6Q",
        "colab_type": "code",
        "outputId": "1609b39d-8db2-4a59-a299-3aca7be80537",
        "colab": {
          "base_uri": "https://localhost:8080/",
          "height": 405
        }
      },
      "source": [
        "plt.figure(figsize=(16, 6))\n",
        "sb.violinplot(x='Margin',y='Age',data=tmp, hue='Severity', inner='point')"
      ],
      "execution_count": 0,
      "outputs": [
        {
          "output_type": "execute_result",
          "data": {
            "text/plain": [
              "<matplotlib.axes._subplots.AxesSubplot at 0x7facf5deb390>"
            ]
          },
          "metadata": {
            "tags": []
          },
          "execution_count": 12
        },
        {
          "output_type": "display_data",
          "data": {
            "image/png": "[encoded data removed]",
            "text/plain": [
              "<Figure size 1152x432 with 1 Axes>"
            ]
          },
          "metadata": {
            "tags": [],
            "needs_background": "light"
          }
        }
      ]
    },
    {
      "cell_type": "code",
      "metadata": {
        "id": "qcsiCdJl53CD",
        "colab_type": "code",
        "outputId": "3fedd316-13af-469b-89fc-1364282907bb",
        "colab": {
          "base_uri": "https://localhost:8080/",
          "height": 218
        }
      },
      "source": [
        "data_no_age = data.drop(data.index[data['Age'] == 100])\n",
        "data_no_age.info()"
      ],
      "execution_count": 0,
      "outputs": [
        {
          "output_type": "stream",
          "text": [
            "<class 'pandas.core.frame.DataFrame'>\n",
            "Int64Index: 955 entries, 0 to 959\n",
            "Data columns (total 5 columns):\n",
            " #   Column    Non-Null Count  Dtype  \n",
            "---  ------    --------------  -----  \n",
            " 0   Age       955 non-null    float64\n",
            " 1   Shape     955 non-null    float64\n",
            " 2   Margin    955 non-null    float64\n",
            " 3   Density   955 non-null    float64\n",
            " 4   Severity  955 non-null    int64  \n",
            "dtypes: float64(4), int64(1)\n",
            "memory usage: 44.8 KB\n"
          ],
          "name": "stdout"
        }
      ]
    },
    {
      "cell_type": "code",
      "metadata": {
        "id": "BlCKkmHqz1bY",
        "colab_type": "code",
        "outputId": "44920f03-845b-4e2e-8f38-456142a25150",
        "colab": {
          "base_uri": "https://localhost:8080/",
          "height": 296
        }
      },
      "source": [
        "sb.countplot(x='Density',data=tmp[tmp['Density'] == 5], hue='Severity')"
      ],
      "execution_count": 0,
      "outputs": [
        {
          "output_type": "execute_result",
          "data": {
            "text/plain": [
              "<matplotlib.axes._subplots.AxesSubplot at 0x7facf5d91208>"
            ]
          },
          "metadata": {
            "tags": []
          },
          "execution_count": 14
        },
        {
          "output_type": "display_data",
          "data": {
            "image/png": "[encoded data removed]",
            "text/plain": [
              "<Figure size 432x288 with 1 Axes>"
            ]
          },
          "metadata": {
            "tags": [],
            "needs_background": "light"
          }
        }
      ]
    },
    {
      "cell_type": "code",
      "metadata": {
        "id": "2YQ8QWFD1dJJ",
        "colab_type": "code",
        "outputId": "446abbb8-ab71-4e7e-cca8-72a6b5d36d9a",
        "colab": {
          "base_uri": "https://localhost:8080/",
          "height": 296
        }
      },
      "source": [
        "sb.countplot(x='Margin',data=tmp[tmp['Margin'] == 6], hue='Severity')"
      ],
      "execution_count": 0,
      "outputs": [
        {
          "output_type": "execute_result",
          "data": {
            "text/plain": [
              "<matplotlib.axes._subplots.AxesSubplot at 0x7facf5ce02b0>"
            ]
          },
          "metadata": {
            "tags": []
          },
          "execution_count": 15
        },
        {
          "output_type": "display_data",
          "data": {
            "image/png": "[encoded data removed]",
            "text/plain": [
              "<Figure size 432x288 with 1 Axes>"
            ]
          },
          "metadata": {
            "tags": [],
            "needs_background": "light"
          }
        }
      ]
    },
    {
      "cell_type": "code",
      "metadata": {
        "id": "yPJJ5iAN1hhg",
        "colab_type": "code",
        "outputId": "0066f6de-14a4-4bf6-c168-c10edc6d8236",
        "colab": {
          "base_uri": "https://localhost:8080/",
          "height": 296
        }
      },
      "source": [
        "sb.countplot(x='Shape',data=tmp[tmp['Shape'] == 5], hue='Severity')"
      ],
      "execution_count": 0,
      "outputs": [
        {
          "output_type": "execute_result",
          "data": {
            "text/plain": [
              "<matplotlib.axes._subplots.AxesSubplot at 0x7facf5d8ecc0>"
            ]
          },
          "metadata": {
            "tags": []
          },
          "execution_count": 16
        },
        {
          "output_type": "display_data",
          "data": {
            "image/png": "[encoded data removed]",
            "text/plain": [
              "<Figure size 432x288 with 1 Axes>"
            ]
          },
          "metadata": {
            "tags": [],
            "needs_background": "light"
          }
        }
      ]
    },
    {
      "cell_type": "markdown",
      "metadata": {
        "id": "xH1RTpS7_S5C",
        "colab_type": "text"
      },
      "source": [
        "If the missing data seems randomly distributed, go ahead and drop rows with missing data. Hint: use dropna()."
      ]
    },
    {
      "cell_type": "code",
      "metadata": {
        "id": "YmnTi61g_S5G",
        "colab_type": "code",
        "outputId": "77dd60a7-785a-4b24-df3f-239d66db5046",
        "colab": {
          "base_uri": "https://localhost:8080/",
          "height": 437
        }
      },
      "source": [
        "data = data.dropna()\n",
        "print(data.describe())\n",
        "print(data.info())\n",
        "print(data['Severity'].value_counts())"
      ],
      "execution_count": 0,
      "outputs": [
        {
          "output_type": "stream",
          "text": [
            "              Age       Shape      Margin     Density    Severity\n",
            "count  960.000000  960.000000  960.000000  960.000000  960.000000\n",
            "mean    55.707292    2.794792    2.954167    3.076042    0.462500\n",
            "std     14.796737    1.287857    1.678541    0.672295    0.498852\n",
            "min     18.000000    1.000000    1.000000    1.000000    0.000000\n",
            "25%     45.000000    2.000000    1.000000    3.000000    0.000000\n",
            "50%     57.000000    3.000000    3.000000    3.000000    0.000000\n",
            "75%     66.000000    4.000000    4.000000    3.000000    1.000000\n",
            "max    100.000000    5.000000    6.000000    5.000000    1.000000\n",
            "<class 'pandas.core.frame.DataFrame'>\n",
            "Int64Index: 960 entries, 0 to 959\n",
            "Data columns (total 5 columns):\n",
            " #   Column    Non-Null Count  Dtype  \n",
            "---  ------    --------------  -----  \n",
            " 0   Age       960 non-null    float64\n",
            " 1   Shape     960 non-null    float64\n",
            " 2   Margin    960 non-null    float64\n",
            " 3   Density   960 non-null    float64\n",
            " 4   Severity  960 non-null    int64  \n",
            "dtypes: float64(4), int64(1)\n",
            "memory usage: 45.0 KB\n",
            "None\n",
            "0    516\n",
            "1    444\n",
            "Name: Severity, dtype: int64\n"
          ],
          "name": "stdout"
        }
      ]
    },
    {
      "cell_type": "markdown",
      "metadata": {
        "collapsed": true,
        "id": "t50_dXOT_S5P",
        "colab_type": "text"
      },
      "source": [
        "Next you'll need to convert the Pandas dataframes into numpy arrays that can be used by scikit_learn. Create an array that extracts only the feature data we want to work with (age, shape, margin, and density) and another array that contains the classes (severity). You'll also need an array of the feature name labels."
      ]
    },
    {
      "cell_type": "code",
      "metadata": {
        "id": "8-q8C9L__S5T",
        "colab_type": "code",
        "outputId": "07cedd9f-6b65-49a7-f949-d09b4f3038ee",
        "colab": {
          "base_uri": "https://localhost:8080/",
          "height": 588
        }
      },
      "source": [
        "data_x = data.drop(['Severity'], axis=1).to_numpy()\n",
        "print(data_x)\n",
        "data_y = data['Severity'].to_numpy()\n",
        "print(data_y)\n",
        "feature_names = np.array(data.drop(['Severity'], axis=1).columns)\n",
        "print(feature_names)"
      ],
      "execution_count": 0,
      "outputs": [
        {
          "output_type": "stream",
          "text": [
            "[[43.  1.  1.  5.]\n",
            " [58.  4.  5.  3.]\n",
            " [28.  1.  1.  3.]\n",
            " ...\n",
            " [64.  4.  5.  3.]\n",
            " [66.  4.  5.  3.]\n",
            " [62.  3.  3.  3.]]\n",
            "[1 1 0 1 0 0 0 1 1 1 1 0 0 0 0 0 1 1 0 1 1 0 1 1 1 0 0 1 0 0 1 1 0 0 0 0 1\n",
            " 1 0 0 0 0 0 1 1 1 0 0 1 0 1 0 0 1 0 0 0 0 1 1 1 0 0 1 0 0 1 0 0 0 1 0 1 1\n",
            " 0 1 0 1 0 0 1 1 0 1 0 1 0 0 1 1 1 0 1 0 1 0 0 0 0 0 0 0 0 0 0 1 0 0 1 0 1\n",
            " 0 0 0 0 0 0 1 0 1 0 0 0 0 0 0 0 0 1 1 1 0 0 1 1 1 1 0 1 1 0 0 0 0 1 1 1 1\n",
            " 0 1 1 0 0 0 0 1 0 0 1 1 0 0 0 0 1 1 0 1 1 0 0 0 0 0 1 0 0 0 1 0 0 0 0 1 1\n",
            " 1 0 1 1 0 1 0 1 0 1 0 1 0 0 0 0 1 0 0 1 0 1 0 0 0 0 1 1 1 0 0 0 0 0 0 0 1\n",
            " 1 1 0 1 0 0 0 0 1 1 0 1 0 0 0 1 0 1 0 0 0 1 0 0 1 0 0 0 1 0 1 1 0 1 1 1 1\n",
            " 1 0 0 0 1 0 1 0 1 1 1 1 1 0 1 0 1 0 1 0 1 0 0 1 1 1 0 0 1 0 1 0 1 1 0 1 0\n",
            " 1 0 1 1 0 0 0 0 0 0 0 0 0 1 1 1 1 0 1 0 0 0 1 1 1 0 1 0 0 0 0 1 1 1 0 1 1\n",
            " 0 1 1 1 1 0 1 1 0 0 0 1 0 1 0 0 1 1 0 0 1 0 0 1 1 0 1 1 0 1 0 0 0 1 1 1 1\n",
            " 0 0 0 1 1 0 1 0 1 0 1 1 0 0 1 0 0 0 0 1 1 0 0 0 1 1 0 0 1 0 1 0 1 1 1 1 0\n",
            " 0 1 0 1 0 1 1 1 0 1 1 1 1 0 0 0 1 0 1 0 1 1 0 1 0 1 1 1 1 1 0 1 1 1 0 1 1\n",
            " 1 0 0 1 1 1 0 0 1 0 0 1 1 1 0 0 0 1 0 0 0 1 1 0 1 0 1 0 0 0 0 0 0 1 0 1 0\n",
            " 0 0 0 0 0 1 1 0 1 1 1 1 1 1 1 0 0 1 0 1 0 0 0 0 1 1 1 1 0 0 1 1 1 0 0 1 0\n",
            " 0 1 1 1 0 0 1 1 1 0 1 0 0 0 0 0 1 0 1 1 0 0 0 0 1 1 0 0 1 1 1 1 0 0 0 1 0\n",
            " 0 1 0 1 1 0 0 0 1 1 0 0 0 1 0 0 0 0 0 1 0 0 1 0 0 0 0 1 0 0 0 0 1 1 0 1 1\n",
            " 0 0 0 1 0 1 1 0 1 1 1 0 1 1 0 0 1 1 1 0 1 1 0 1 0 1 0 0 0 0 1 1 0 1 0 0 0\n",
            " 0 0 0 1 0 1 0 0 0 1 1 0 1 0 0 0 1 0 0 1 0 1 0 1 0 1 1 0 0 1 1 0 1 1 1 0 0\n",
            " 0 1 0 1 1 1 1 1 1 1 1 1 0 0 0 0 1 1 1 1 1 1 1 0 0 1 1 0 0 0 1 0 1 1 1 0 1\n",
            " 0 1 0 0 1 0 0 0 1 1 0 0 0 1 1 0 0 0 1 0 1 0 1 1 0 0 1 1 0 0 0 0 0 1 0 0 0\n",
            " 0 0 0 0 0 1 0 1 0 0 0 1 1 0 0 1 1 1 1 0 1 1 1 0 1 1 0 0 1 0 0 1 0 1 0 0 0\n",
            " 0 0 0 0 1 1 0 1 0 1 1 0 0 1 1 0 0 1 1 1 0 1 1 1 0 0 0 1 1 0 1 0 1 1 1 0 1\n",
            " 0 0 0 0 0 1 0 0 1 1 0 1 1 0 1 1 0 1 1 0 1 0 1 0 0 0 0 1 0 0 0 0 0 1 0 0 1\n",
            " 0 0 1 0 1 0 1 1 1 1 1 1 1 0 1 0 0 0 1 0 1 1 0 0 0 0 1 0 1 1 0 1 1 1 0 1 1\n",
            " 1 1 1 1 0 0 1 0 1 0 1 1 1 0 1 1 0 0 1 1 0 1 0 1 0 1 0 0 1 0 0 0 1 0 1 1 0\n",
            " 1 0 1 0 0 1 0 0 0 1 0 0 0 0 1 0 1 0 1 0 0 0 1 0 1 1 1 0 0 1 0 1 0 1 0]\n",
            "['Age' 'Shape' 'Margin' 'Density']\n"
          ],
          "name": "stdout"
        }
      ]
    },
    {
      "cell_type": "markdown",
      "metadata": {
        "id": "FDw8fb97_S5d",
        "colab_type": "text"
      },
      "source": [
        "Some of our models require the input data to be normalized, so go ahead and normalize the attribute data. Hint: use preprocessing.StandardScaler()."
      ]
    },
    {
      "cell_type": "code",
      "metadata": {
        "id": "iVi6X1M3_S5h",
        "colab_type": "code",
        "outputId": "6757ae58-1ba7-41b1-bce0-3820c8602613",
        "colab": {
          "base_uri": "https://localhost:8080/",
          "height": 134
        }
      },
      "source": [
        "from sklearn.preprocessing import StandardScaler\n",
        "\n",
        "scaler = StandardScaler()\n",
        "data_x_normalized = scaler.fit_transform(data_x)\n",
        "print(data_x_normalized)"
      ],
      "execution_count": 0,
      "outputs": [
        {
          "output_type": "stream",
          "text": [
            "[[-0.85923776 -1.39435297 -1.16481213  2.86326996]\n",
            " [ 0.15502765  0.93631247  1.2194515  -0.1131666 ]\n",
            " [-1.87350316 -1.39435297 -1.16481213 -0.1131666 ]\n",
            " ...\n",
            " [ 0.56073381  0.93631247  1.2194515  -0.1131666 ]\n",
            " [ 0.6959692   0.93631247  1.2194515  -0.1131666 ]\n",
            " [ 0.42549843  0.15942399  0.02731969 -0.1131666 ]]\n"
          ],
          "name": "stdout"
        }
      ]
    },
    {
      "cell_type": "markdown",
      "metadata": {
        "id": "uwMESEtJ_S5p",
        "colab_type": "text"
      },
      "source": [
        "## Neural Networks\n",
        "\n",
        "You can use Tensorflow to set up a neural network with 1 binary output neuron and see how it performs. Don't be afraid to run a large number of epochs to train the model if necessary. As a bonus, try to optimize this model's hyperparameters using GA."
      ]
    },
    {
      "cell_type": "markdown",
      "metadata": {
        "id": "chXfpLd4_S5r",
        "colab_type": "text"
      },
      "source": [
        "### GA"
      ]
    },
    {
      "cell_type": "code",
      "metadata": {
        "id": "CjmaYmRwOnqz",
        "colab_type": "code",
        "colab": {}
      },
      "source": [
        "import numpy as np\n",
        "import random\n",
        "\n",
        "np.random.seed(15) #So we can reproduce results"
      ],
      "execution_count": 0,
      "outputs": []
    },
    {
      "cell_type": "code",
      "metadata": {
        "id": "yYHAiSfkOpxi",
        "colab_type": "code",
        "colab": {}
      },
      "source": [
        "class Individual:\n",
        "    ids = 0\n",
        "    def __init__(self, n_layers, n_nodes, n_batch_size, activation_function, gen, optimizer, loss):\n",
        "        self.id = Individual.ids\n",
        "        Individual.ids += 1\n",
        "        self.n_layers = n_layers\n",
        "        self.n_nodes = n_nodes\n",
        "        self.n_batch_size = n_batch_size\n",
        "        self.activation_function = activation_function\n",
        "        self.FP = -1\n",
        "        self.FN = -1\n",
        "        self.ACC = -1\n",
        "        self.gen = gen\n",
        "        self.fitness = -1\n",
        "        self.optimizer = optimizer\n",
        "        self.loss = loss\n",
        "    \n",
        "    def calculate_fitness(self): ## Maybe change the proportions MAX -> 70 | Ideal ~ 65-66\n",
        "      self.fitness = 0.7 * self.ACC - (0.2 * self.FN) - (0.1 * self.FP)\n",
        "\n",
        "\n",
        "    def print_details(self, file=None):\n",
        "        print(\"---------------------------------------\", file=file)\n",
        "        print(\"Generation \", self.gen, \" ID \", self.id, file=file)\n",
        "        print(\"Fitness Score: \", self.fitness, file=file)\n",
        "        print(\"Layers: \", self.n_layers, file=file)\n",
        "        print(\"Nodes: \", self.n_nodes, file=file)\n",
        "        print(\"Batch Size: \", self.n_batch_size, file=file)\n",
        "        print(\"Activation_Function: \", self.activation_function, file=file)\n",
        "        print(\"Optimizer: \", self.optimizer, file=file)\n",
        "        print(\"Losse Function: \", self.loss, file=file)\n",
        "        print(\"FP: \", self.FP, \" | FN: \", self.FN, \" | ACC: \", self.ACC, file=file)\n",
        "        print(\"---------------------------------------\", file=file)"
      ],
      "execution_count": 0,
      "outputs": []
    },
    {
      "cell_type": "code",
      "metadata": {
        "id": "VLkqo6W-sb3r",
        "colab_type": "code",
        "colab": {}
      },
      "source": [
        "import itertools\n",
        "import numpy as np\n",
        "\n",
        "ACTIVATIONS   = ['elu','relu','tanh']\n",
        "OPTIMIZERS    = ['adam','sgd','adagrad','adadelta','rmsprop']\n",
        "LOSSES        = ['binary_crossentropy']\n",
        "EPOCHS        = [200,250,300,350,400,450,500]\n",
        "BATCH_SIZE    = [32,64,128]\n",
        "NEURONS       = [8,16,32,64]\n",
        "N_LAYERS      = [1,2,3,4,5,6,7]\n",
        "\n",
        "class GA:\n",
        "  total_generations = 0\n",
        "  def __init__(self, pop_size=15, iterations=20):\n",
        "    self.POP_SIZE = pop_size\n",
        "    self.best_of_each = []\n",
        "    self.pop = []\n",
        "    self.iterations = iterations\n",
        "    GA.total_generations = 0\n",
        "  \n",
        "  def initialize(self):\n",
        "    for i in range(self.POP_SIZE):\n",
        "      n_layers = random.choice(N_LAYERS)\n",
        "      n_nodes = random.choice(NEURONS)\n",
        "      activation_function = random.choice(ACTIVATIONS)\n",
        "      batch_size = random.choice(BATCH_SIZE)\n",
        "      optimizer = random.choice(OPTIMIZERS)\n",
        "      loss = LOSSES[0]  #random.choice(LOSSES)\n",
        "      ind = Individual(n_layers, n_nodes, batch_size, activation_function, GA.total_generations, optimizer, loss)\n",
        "      self.pop.append(ind)\n",
        "  \n",
        "  def selection(self):    # Stochastic universal sampling\n",
        "    parents = []\n",
        "    ### ALGORITHM to choose ONLY 6\n",
        "    F = sum([i.fitness for i in self.pop])\n",
        "    N = 6\n",
        "    P = F / N\n",
        "    start = random.random()\n",
        "    pointers = [start + i*P for i in range(N)]\n",
        "\n",
        "    for p in pointers:\n",
        "      i = 0\n",
        "      fitness_sum = self.pop[i].fitness\n",
        "      while fitness_sum < P:\n",
        "        i += 1\n",
        "        fitness_sum += self.pop[i].fitness\n",
        "      parents.append(self.pop[i])\n",
        "\n",
        "    return parents\n",
        "\n",
        "  def _selection_aux(self, n):\n",
        "    return n.fitness\n",
        "\n",
        "  def selection_top(self):\n",
        "    parents = []\n",
        "    self.pop.sort(key=self._selection_aux, reverse=True)\n",
        "    parents = self.pop[:6]\n",
        "    \n",
        "    return parents\n",
        "\n",
        "  def crossover(self,parents):\n",
        "    GA.total_generations += 1\n",
        "    tmp = []\n",
        "    for p1,p2 in itertools.combinations(parents,2):   # Uniform crossover\n",
        "      breed = Individual(0,0,0,'',GA.total_generations, '','')\n",
        "      for i in range(5):\n",
        "        p = random.random()\n",
        "        if p > 0.5:\n",
        "          ind = p1\n",
        "        else:\n",
        "          ind = p2\n",
        "\n",
        "        if i == 0:\n",
        "          breed.n_layers = ind.n_layers\n",
        "        elif i == 1:\n",
        "          breed.n_nodes = ind.n_nodes\n",
        "        elif i == 2:\n",
        "          breed.n_batch_size = ind.n_batch_size\n",
        "        elif i == 3:\n",
        "          breed.activation_function = ind.activation_function\n",
        "        elif i == 4:\n",
        "          breed.optimizer = ind.optimizer\n",
        "\n",
        "        breed.loss = LOSSES[0]\n",
        "\n",
        "      breed = self.mutation(breed)\n",
        "      tmp.append(breed)\n",
        "    self.pop = tmp\n",
        "  \n",
        "  def mutation(self,ind):\n",
        "    p = random.random()\n",
        "    if p <= 0.2:\n",
        "      print(\"Mutated!\")\n",
        "      g = random.choice(range(0,5)) ## Can be changed in the future\n",
        "      if g == 0:\n",
        "        t = N_LAYERS[:]\n",
        "        t.remove(ind.n_layers)\n",
        "        ind.n_layers = random.choice(t)\n",
        "      elif g == 1:\n",
        "        t = NEURONS[:]\n",
        "        t.remove(ind.n_nodes)\n",
        "        ind.n_nodes = random.choice(t)\n",
        "      elif g == 2:\n",
        "        t = BATCH_SIZE[:]\n",
        "        t.remove(ind.n_batch_size)\n",
        "        ind.n_batch_size = random.choice(t)\n",
        "      elif g == 3:\n",
        "        t = ACTIVATIONS[:]\n",
        "        t.remove(ind.activation_function)\n",
        "        ind.activation_function = random.choice(t)\n",
        "      elif g == 4:\n",
        "        t = OPTIMIZERS[:]\n",
        "        t.remove(ind.optimizer)\n",
        "        ind.optimizer = random.choice(t)\n",
        "    return ind\n",
        "\n",
        "  def condition_to_end(self,generations):\n",
        "    flag1 = False\n",
        "    flag2 = False\n",
        "    flag3 = False\n",
        "    # Existing False Positives?\n",
        "    for i in self.pop:\n",
        "      if i.FP > 0.15:\n",
        "        print(\"There are still FP!\")\n",
        "        break\n",
        "      else:\n",
        "        flag1 = True\n",
        "        break\n",
        "        # PLease see again\n",
        "\n",
        "    # Fitness Stagneted? \n",
        "    fitns = []\n",
        "    for g in generations[-5:]:\n",
        "      mean_fitnesses = 0\n",
        "      for i in g:\n",
        "        mean_fitnesses += i.fitness\n",
        "      fitns.append(mean_fitnesses)\n",
        "    if np.std(fitns) > 3:\n",
        "      flag2 = True\n",
        "      print(\"Fitness still not converged, deviation at \", np.std(fitns))\n",
        "  \n",
        "    if GA.total_generations > self.iterations-1:\n",
        "      flag3 = True\n",
        "\n",
        "    return flag3\n",
        "  "
      ],
      "execution_count": 0,
      "outputs": []
    },
    {
      "cell_type": "code",
      "metadata": {
        "id": "m5-dzHLoDejx",
        "colab_type": "code",
        "colab": {}
      },
      "source": [
        "import matplotlib.pyplot as plt\n",
        "\n",
        "def map_aux(n):\n",
        "  return n.fitness\n",
        "\n",
        "def map_aux2(n):\n",
        "  return n.FN\n",
        "\n",
        "def map_aux3(n):\n",
        "  return n.ACC\n",
        "\n",
        "every_gen = []\n",
        "best_of_each = []\n",
        "\n",
        "def run_otimization():\n",
        "  Individual.ids = 0\n",
        "  global every_gen, best_of_each\n",
        "  every_gen = []\n",
        "  best_of_each = []\n",
        "\n",
        "  ga = GA(iterations=30)\n",
        "  ga.initialize()\n",
        "  while not ga.condition_to_end(every_gen):\n",
        "    print(\"Generation \", GA.total_generations, \"!\")\n",
        "    every_gen.append(ga.pop)\n",
        "    for i in ga.pop:\n",
        "      print(\"--- Individual \", i.id)\n",
        "      fp, fn, sc = run_neural_network(i)\n",
        "      i.FN = fn\n",
        "      i.FP = fp\n",
        "      i.ACC = sc\n",
        "      i.calculate_fitness()\n",
        "      print(\"- Fitness \", i.fitness)\n",
        "      with open('/content/drive/My Drive/individuals.txt','a') as f:\n",
        "        i.print_details(file=f)\n",
        "    best_of_each.append(sorted(ga.pop,key=lambda x: x.fitness, reverse=True)[0])\n",
        "    parents = ga.selection_top()\n",
        "    ga.crossover(parents)\n",
        "\n",
        "  # Writing Results\n",
        "  with open('/content/drive/My Drive/results.txt', 'w') as f:\n",
        "    for i in best_of_each:\n",
        "      i.print_details(file=f)\n",
        "  \n",
        "  with open('/content/drive/My Drive/results_ordered.txt', 'w') as f:\n",
        "    tmp = best_of_each[:]\n",
        "    tmp.sort(reverse=True, key=map_aux)\n",
        "    for i in tmp:\n",
        "      i.print_details(file=f)\n",
        "\n",
        "  drive.flush_and_unmount()\n",
        "  ## Analysing performance\n",
        "  fitnesses = [np.mean(list(map(map_aux,g))) for g in every_gen]\n",
        "  plt.figure()\n",
        "  plt.plot(range(GA.total_generations), fitnesses, label=\"Mean fitness of each generation\")\n",
        "  plt.plot(range(GA.total_generations), list(map(map_aux,best_of_each)), label=\"Best Fitness of each generation\")\n",
        "  plt.ylabel(\"Fitness Score\")\n",
        "  plt.xlabel(\"Generation\")\n",
        "  plt.legend()\n",
        "  plt.show()\n",
        "\n",
        "  plt.figure()\n",
        "  plt.scatter( list( map(map_aux2,best_of_each) ), list( map(map_aux3,best_of_each) ), label=\"FN / Acc\")\n",
        "  plt.ylabel(\"Accuracy\")\n",
        "  plt.xlabel(\"False Negatives\")\n",
        "  plt.legend()\n",
        "  plt.show()"
      ],
      "execution_count": 0,
      "outputs": []
    },
    {
      "cell_type": "code",
      "metadata": {
        "id": "YdaZkX6rqjcB",
        "colab_type": "code",
        "outputId": "843c62ba-35e2-4bda-ce2b-cc6dd298a167",
        "colab": {
          "base_uri": "https://localhost:8080/",
          "height": 279
        }
      },
      "source": [
        "plt.figure()\n",
        "plt.scatter( list( map(map_aux2,best_of_each) ), list( map(map_aux3,best_of_each) ), label=\"FN / Acc\")\n",
        "plt.ylabel(\"Accuracy\")\n",
        "plt.xlabel(\"False Negatives\")\n",
        "plt.legend()\n",
        "plt.show()"
      ],
      "execution_count": 0,
      "outputs": [
        {
          "output_type": "display_data",
          "data": {
            "image/png": "[encoded data removed]",
            "text/plain": [
              "<Figure size 432x288 with 1 Axes>"
            ]
          },
          "metadata": {
            "tags": [],
            "needs_background": "light"
          }
        }
      ]
    },
    {
      "cell_type": "markdown",
      "metadata": {
        "id": "2yGpkW21Dij9",
        "colab_type": "text"
      },
      "source": [
        "### ANN"
      ]
    },
    {
      "cell_type": "markdown",
      "metadata": {
        "id": "AqTmX9-hd79O",
        "colab_type": "text"
      },
      "source": [
        "#### Decisão de Valores para os HiperParametros"
      ]
    },
    {
      "cell_type": "code",
      "metadata": {
        "id": "NfEWVs6saglT",
        "colab_type": "code",
        "outputId": "8db69fa8-04c7-4679-abd2-4664ac0cc771",
        "colab": {
          "base_uri": "https://localhost:8080/"
        }
      },
      "source": [
        "from tensorflow.keras.callbacks import EarlyStopping\n",
        "from tensorflow.keras.models import Sequential\n",
        "from tensorflow.keras.layers import Dense\n",
        "from sklearn.model_selection import train_test_split\n",
        "\n",
        "model2 = Sequential()\n",
        "model2.add(Dense(64, input_dim=4, activation='relu'))\n",
        "model2.add(Dense(64, activation='relu'))\n",
        "model2.add(Dense(1, activation='sigmoid'))\n",
        "\n",
        "es = EarlyStopping(monitor='val_loss', mode='min', verbose=1)                   # compile the keras model\n",
        "model2.compile(loss='binary_crossentropy', optimizer='sgd', metrics=['accuracy'])\n",
        "\n",
        "X_train, X_test, y_train, y_test = train_test_split(data_x_normalized, data_y, test_size=0.25, random_state=15)\n",
        "history = model2.fit(X_train, y_train, epochs=500, verbose=2, batch_size=128, validation_data=(X_test, y_test), callbacks=[es])\n",
        "\n",
        "# summarize history for accuracy\n",
        "plt.plot(history.history['accuracy'])\n",
        "plt.plot(history.history['val_accuracy'])\n",
        "plt.title('model accuracy')\n",
        "plt.ylabel('accuracy')\n",
        "plt.xlabel('epoch')\n",
        "plt.legend(['train', 'test'], loc='upper left')\n",
        "plt.show()\n",
        "# summarize history for loss\n",
        "plt.plot(history.history['loss'])\n",
        "plt.plot(history.history['val_loss'])\n",
        "plt.title('model loss')\n",
        "plt.ylabel('loss')\n",
        "plt.xlabel('epoch')\n",
        "plt.legend(['train', 'test'], loc='upper left')\n",
        "plt.show()"
      ],
      "execution_count": 0,
      "outputs": [
        {
          "output_type": "stream",
          "text": [
            "Epoch 1/500\n",
            "6/6 - 0s - loss: 0.7339 - accuracy: 0.4625 - val_loss: 0.7151 - val_accuracy: 0.4750\n",
            "Epoch 2/500\n",
            "6/6 - 0s - loss: 0.7192 - accuracy: 0.4597 - val_loss: 0.7016 - val_accuracy: 0.4708\n",
            "Epoch 3/500\n",
            "6/6 - 0s - loss: 0.7064 - accuracy: 0.4597 - val_loss: 0.6894 - val_accuracy: 0.4708\n",
            "Epoch 4/500\n",
            "6/6 - 0s - loss: 0.6943 - accuracy: 0.4597 - val_loss: 0.6782 - val_accuracy: 0.4750\n",
            "Epoch 5/500\n",
            "6/6 - 0s - loss: 0.6840 - accuracy: 0.4667 - val_loss: 0.6679 - val_accuracy: 0.5167\n",
            "Epoch 6/500\n",
            "6/6 - 0s - loss: 0.6762 - accuracy: 0.5431 - val_loss: 0.6582 - val_accuracy: 0.7083\n",
            "Epoch 7/500\n",
            "6/6 - 0s - loss: 0.6676 - accuracy: 0.6708 - val_loss: 0.6493 - val_accuracy: 0.7333\n",
            "Epoch 8/500\n",
            "6/6 - 0s - loss: 0.6568 - accuracy: 0.7014 - val_loss: 0.6409 - val_accuracy: 0.7667\n",
            "Epoch 9/500\n",
            "6/6 - 0s - loss: 0.6489 - accuracy: 0.7319 - val_loss: 0.6331 - val_accuracy: 0.8083\n",
            "Epoch 10/500\n",
            "6/6 - 0s - loss: 0.6413 - accuracy: 0.7347 - val_loss: 0.6259 - val_accuracy: 0.8208\n",
            "Epoch 11/500\n",
            "6/6 - 0s - loss: 0.6344 - accuracy: 0.7403 - val_loss: 0.6191 - val_accuracy: 0.8250\n",
            "Epoch 12/500\n",
            "6/6 - 0s - loss: 0.6279 - accuracy: 0.7472 - val_loss: 0.6126 - val_accuracy: 0.8167\n",
            "Epoch 13/500\n",
            "6/6 - 0s - loss: 0.6212 - accuracy: 0.7472 - val_loss: 0.6064 - val_accuracy: 0.8083\n",
            "Epoch 14/500\n",
            "6/6 - 0s - loss: 0.6156 - accuracy: 0.7500 - val_loss: 0.6006 - val_accuracy: 0.8042\n",
            "Epoch 15/500\n",
            "6/6 - 0s - loss: 0.6111 - accuracy: 0.7486 - val_loss: 0.5950 - val_accuracy: 0.8083\n",
            "Epoch 16/500\n",
            "6/6 - 0s - loss: 0.6060 - accuracy: 0.7514 - val_loss: 0.5898 - val_accuracy: 0.8083\n",
            "Epoch 17/500\n",
            "6/6 - 0s - loss: 0.5981 - accuracy: 0.7556 - val_loss: 0.5845 - val_accuracy: 0.8083\n",
            "Epoch 18/500\n",
            "6/6 - 0s - loss: 0.5969 - accuracy: 0.7625 - val_loss: 0.5797 - val_accuracy: 0.8083\n",
            "Epoch 19/500\n",
            "6/6 - 0s - loss: 0.5895 - accuracy: 0.7639 - val_loss: 0.5749 - val_accuracy: 0.8042\n",
            "Epoch 20/500\n",
            "6/6 - 0s - loss: 0.5852 - accuracy: 0.7597 - val_loss: 0.5703 - val_accuracy: 0.7917\n",
            "Epoch 21/500\n",
            "6/6 - 0s - loss: 0.5817 - accuracy: 0.7625 - val_loss: 0.5660 - val_accuracy: 0.7917\n",
            "Epoch 22/500\n",
            "6/6 - 0s - loss: 0.5769 - accuracy: 0.7611 - val_loss: 0.5618 - val_accuracy: 0.7833\n",
            "Epoch 23/500\n",
            "6/6 - 0s - loss: 0.5739 - accuracy: 0.7639 - val_loss: 0.5578 - val_accuracy: 0.7833\n",
            "Epoch 24/500\n",
            "6/6 - 0s - loss: 0.5701 - accuracy: 0.7625 - val_loss: 0.5539 - val_accuracy: 0.7833\n",
            "Epoch 25/500\n",
            "6/6 - 0s - loss: 0.5639 - accuracy: 0.7639 - val_loss: 0.5501 - val_accuracy: 0.7792\n",
            "Epoch 26/500\n",
            "6/6 - 0s - loss: 0.5606 - accuracy: 0.7653 - val_loss: 0.5465 - val_accuracy: 0.7792\n",
            "Epoch 27/500\n",
            "6/6 - 0s - loss: 0.5582 - accuracy: 0.7681 - val_loss: 0.5430 - val_accuracy: 0.7792\n",
            "Epoch 28/500\n",
            "6/6 - 0s - loss: 0.5549 - accuracy: 0.7667 - val_loss: 0.5397 - val_accuracy: 0.7833\n",
            "Epoch 29/500\n",
            "6/6 - 0s - loss: 0.5496 - accuracy: 0.7653 - val_loss: 0.5364 - val_accuracy: 0.7750\n",
            "Epoch 30/500\n",
            "6/6 - 0s - loss: 0.5496 - accuracy: 0.7639 - val_loss: 0.5334 - val_accuracy: 0.7750\n",
            "Epoch 31/500\n",
            "6/6 - 0s - loss: 0.5469 - accuracy: 0.7639 - val_loss: 0.5305 - val_accuracy: 0.7750\n",
            "Epoch 32/500\n",
            "6/6 - 0s - loss: 0.5415 - accuracy: 0.7639 - val_loss: 0.5276 - val_accuracy: 0.7750\n",
            "Epoch 33/500\n",
            "6/6 - 0s - loss: 0.5379 - accuracy: 0.7639 - val_loss: 0.5247 - val_accuracy: 0.7750\n",
            "Epoch 34/500\n",
            "6/6 - 0s - loss: 0.5340 - accuracy: 0.7639 - val_loss: 0.5220 - val_accuracy: 0.7750\n",
            "Epoch 35/500\n",
            "6/6 - 0s - loss: 0.5334 - accuracy: 0.7639 - val_loss: 0.5195 - val_accuracy: 0.7750\n",
            "Epoch 36/500\n",
            "6/6 - 0s - loss: 0.5292 - accuracy: 0.7653 - val_loss: 0.5170 - val_accuracy: 0.7750\n",
            "Epoch 37/500\n",
            "6/6 - 0s - loss: 0.5267 - accuracy: 0.7653 - val_loss: 0.5146 - val_accuracy: 0.7750\n",
            "Epoch 38/500\n",
            "6/6 - 0s - loss: 0.5255 - accuracy: 0.7681 - val_loss: 0.5124 - val_accuracy: 0.7792\n",
            "Epoch 39/500\n",
            "6/6 - 0s - loss: 0.5228 - accuracy: 0.7694 - val_loss: 0.5102 - val_accuracy: 0.7792\n",
            "Epoch 40/500\n",
            "6/6 - 0s - loss: 0.5239 - accuracy: 0.7708 - val_loss: 0.5082 - val_accuracy: 0.7792\n",
            "Epoch 41/500\n",
            "6/6 - 0s - loss: 0.5194 - accuracy: 0.7708 - val_loss: 0.5062 - val_accuracy: 0.7792\n",
            "Epoch 42/500\n",
            "6/6 - 0s - loss: 0.5212 - accuracy: 0.7708 - val_loss: 0.5044 - val_accuracy: 0.7792\n",
            "Epoch 43/500\n",
            "6/6 - 0s - loss: 0.5175 - accuracy: 0.7708 - val_loss: 0.5025 - val_accuracy: 0.7792\n",
            "Epoch 44/500\n",
            "6/6 - 0s - loss: 0.5113 - accuracy: 0.7708 - val_loss: 0.5007 - val_accuracy: 0.7833\n",
            "Epoch 45/500\n",
            "6/6 - 0s - loss: 0.5168 - accuracy: 0.7708 - val_loss: 0.4991 - val_accuracy: 0.7833\n",
            "Epoch 46/500\n",
            "6/6 - 0s - loss: 0.5143 - accuracy: 0.7708 - val_loss: 0.4975 - val_accuracy: 0.7833\n",
            "Epoch 47/500\n",
            "6/6 - 0s - loss: 0.5084 - accuracy: 0.7708 - val_loss: 0.4960 - val_accuracy: 0.7833\n",
            "Epoch 48/500\n",
            "6/6 - 0s - loss: 0.5092 - accuracy: 0.7722 - val_loss: 0.4946 - val_accuracy: 0.7833\n",
            "Epoch 49/500\n",
            "6/6 - 0s - loss: 0.5080 - accuracy: 0.7722 - val_loss: 0.4933 - val_accuracy: 0.7833\n",
            "Epoch 50/500\n",
            "6/6 - 0s - loss: 0.5085 - accuracy: 0.7708 - val_loss: 0.4920 - val_accuracy: 0.7833\n",
            "Epoch 51/500\n",
            "6/6 - 0s - loss: 0.5101 - accuracy: 0.7708 - val_loss: 0.4909 - val_accuracy: 0.7833\n",
            "Epoch 52/500\n",
            "6/6 - 0s - loss: 0.5082 - accuracy: 0.7722 - val_loss: 0.4898 - val_accuracy: 0.7833\n",
            "Epoch 53/500\n",
            "6/6 - 0s - loss: 0.5054 - accuracy: 0.7722 - val_loss: 0.4887 - val_accuracy: 0.7833\n",
            "Epoch 54/500\n",
            "6/6 - 0s - loss: 0.5021 - accuracy: 0.7722 - val_loss: 0.4876 - val_accuracy: 0.7833\n",
            "Epoch 55/500\n",
            "6/6 - 0s - loss: 0.5014 - accuracy: 0.7722 - val_loss: 0.4865 - val_accuracy: 0.7833\n",
            "Epoch 56/500\n",
            "6/6 - 0s - loss: 0.5049 - accuracy: 0.7722 - val_loss: 0.4855 - val_accuracy: 0.7833\n",
            "Epoch 57/500\n",
            "6/6 - 0s - loss: 0.5022 - accuracy: 0.7722 - val_loss: 0.4846 - val_accuracy: 0.7833\n",
            "Epoch 58/500\n",
            "6/6 - 0s - loss: 0.5013 - accuracy: 0.7708 - val_loss: 0.4837 - val_accuracy: 0.7833\n",
            "Epoch 59/500\n",
            "6/6 - 0s - loss: 0.4985 - accuracy: 0.7722 - val_loss: 0.4828 - val_accuracy: 0.7833\n",
            "Epoch 60/500\n",
            "6/6 - 0s - loss: 0.4960 - accuracy: 0.7736 - val_loss: 0.4820 - val_accuracy: 0.7833\n",
            "Epoch 61/500\n",
            "6/6 - 0s - loss: 0.4932 - accuracy: 0.7722 - val_loss: 0.4812 - val_accuracy: 0.7833\n",
            "Epoch 62/500\n",
            "6/6 - 0s - loss: 0.4992 - accuracy: 0.7722 - val_loss: 0.4805 - val_accuracy: 0.7833\n",
            "Epoch 63/500\n",
            "6/6 - 0s - loss: 0.4899 - accuracy: 0.7722 - val_loss: 0.4798 - val_accuracy: 0.7833\n",
            "Epoch 64/500\n",
            "6/6 - 0s - loss: 0.4919 - accuracy: 0.7722 - val_loss: 0.4791 - val_accuracy: 0.7833\n",
            "Epoch 65/500\n",
            "6/6 - 0s - loss: 0.4909 - accuracy: 0.7722 - val_loss: 0.4784 - val_accuracy: 0.7792\n",
            "Epoch 66/500\n",
            "6/6 - 0s - loss: 0.4961 - accuracy: 0.7708 - val_loss: 0.4780 - val_accuracy: 0.7792\n",
            "Epoch 67/500\n",
            "6/6 - 0s - loss: 0.4943 - accuracy: 0.7722 - val_loss: 0.4775 - val_accuracy: 0.7792\n",
            "Epoch 68/500\n",
            "6/6 - 0s - loss: 0.4897 - accuracy: 0.7722 - val_loss: 0.4769 - val_accuracy: 0.7792\n",
            "Epoch 69/500\n",
            "6/6 - 0s - loss: 0.4926 - accuracy: 0.7722 - val_loss: 0.4763 - val_accuracy: 0.7792\n",
            "Epoch 70/500\n",
            "6/6 - 0s - loss: 0.4903 - accuracy: 0.7722 - val_loss: 0.4758 - val_accuracy: 0.7792\n",
            "Epoch 71/500\n",
            "6/6 - 0s - loss: 0.4896 - accuracy: 0.7694 - val_loss: 0.4753 - val_accuracy: 0.7792\n",
            "Epoch 72/500\n",
            "6/6 - 0s - loss: 0.4879 - accuracy: 0.7708 - val_loss: 0.4750 - val_accuracy: 0.7750\n",
            "Epoch 73/500\n",
            "6/6 - 0s - loss: 0.4897 - accuracy: 0.7694 - val_loss: 0.4747 - val_accuracy: 0.7750\n",
            "Epoch 74/500\n",
            "6/6 - 0s - loss: 0.4868 - accuracy: 0.7722 - val_loss: 0.4743 - val_accuracy: 0.7750\n",
            "Epoch 75/500\n",
            "6/6 - 0s - loss: 0.4902 - accuracy: 0.7722 - val_loss: 0.4740 - val_accuracy: 0.7750\n",
            "Epoch 76/500\n",
            "6/6 - 0s - loss: 0.4860 - accuracy: 0.7722 - val_loss: 0.4736 - val_accuracy: 0.7750\n",
            "Epoch 77/500\n",
            "6/6 - 0s - loss: 0.4924 - accuracy: 0.7722 - val_loss: 0.4734 - val_accuracy: 0.7750\n",
            "Epoch 78/500\n",
            "6/6 - 0s - loss: 0.4815 - accuracy: 0.7722 - val_loss: 0.4731 - val_accuracy: 0.7750\n",
            "Epoch 79/500\n",
            "6/6 - 0s - loss: 0.4875 - accuracy: 0.7722 - val_loss: 0.4727 - val_accuracy: 0.7750\n",
            "Epoch 80/500\n",
            "6/6 - 0s - loss: 0.4831 - accuracy: 0.7722 - val_loss: 0.4725 - val_accuracy: 0.7750\n",
            "Epoch 81/500\n",
            "6/6 - 0s - loss: 0.4816 - accuracy: 0.7722 - val_loss: 0.4723 - val_accuracy: 0.7750\n",
            "Epoch 82/500\n",
            "6/6 - 0s - loss: 0.4831 - accuracy: 0.7722 - val_loss: 0.4720 - val_accuracy: 0.7750\n",
            "Epoch 83/500\n",
            "6/6 - 0s - loss: 0.4812 - accuracy: 0.7722 - val_loss: 0.4716 - val_accuracy: 0.7750\n",
            "Epoch 84/500\n",
            "6/6 - 0s - loss: 0.4880 - accuracy: 0.7722 - val_loss: 0.4714 - val_accuracy: 0.7750\n",
            "Epoch 85/500\n",
            "6/6 - 0s - loss: 0.4828 - accuracy: 0.7722 - val_loss: 0.4711 - val_accuracy: 0.7750\n",
            "Epoch 86/500\n",
            "6/6 - 0s - loss: 0.4873 - accuracy: 0.7736 - val_loss: 0.4710 - val_accuracy: 0.7750\n",
            "Epoch 87/500\n",
            "6/6 - 0s - loss: 0.4860 - accuracy: 0.7722 - val_loss: 0.4708 - val_accuracy: 0.7750\n",
            "Epoch 88/500\n",
            "6/6 - 0s - loss: 0.4817 - accuracy: 0.7722 - val_loss: 0.4708 - val_accuracy: 0.7750\n",
            "Epoch 89/500\n",
            "6/6 - 0s - loss: 0.4905 - accuracy: 0.7722 - val_loss: 0.4707 - val_accuracy: 0.7750\n",
            "Epoch 90/500\n",
            "6/6 - 0s - loss: 0.4830 - accuracy: 0.7736 - val_loss: 0.4705 - val_accuracy: 0.7750\n",
            "Epoch 91/500\n",
            "6/6 - 0s - loss: 0.4855 - accuracy: 0.7750 - val_loss: 0.4704 - val_accuracy: 0.7708\n",
            "Epoch 92/500\n",
            "6/6 - 0s - loss: 0.4859 - accuracy: 0.7736 - val_loss: 0.4704 - val_accuracy: 0.7708\n",
            "Epoch 93/500\n",
            "6/6 - 0s - loss: 0.4770 - accuracy: 0.7750 - val_loss: 0.4703 - val_accuracy: 0.7708\n",
            "Epoch 94/500\n",
            "6/6 - 0s - loss: 0.4785 - accuracy: 0.7750 - val_loss: 0.4701 - val_accuracy: 0.7708\n",
            "Epoch 95/500\n",
            "6/6 - 0s - loss: 0.4824 - accuracy: 0.7764 - val_loss: 0.4700 - val_accuracy: 0.7708\n",
            "Epoch 96/500\n",
            "6/6 - 0s - loss: 0.4781 - accuracy: 0.7736 - val_loss: 0.4699 - val_accuracy: 0.7708\n",
            "Epoch 97/500\n",
            "6/6 - 0s - loss: 0.4886 - accuracy: 0.7736 - val_loss: 0.4699 - val_accuracy: 0.7708\n",
            "Epoch 00097: early stopping\n"
          ],
          "name": "stdout"
        },
        {
          "output_type": "display_data",
          "data": {
            "image/png": "[encoded data removed]",
            "text/plain": [
              "<Figure size 432x288 with 1 Axes>"
            ]
          },
          "metadata": {
            "tags": [],
            "needs_background": "light"
          }
        },
        {
          "output_type": "display_data",
          "data": {
            "image/png": "[encoded data removed]",
            "text/plain": [
              "<Figure size 432x288 with 1 Axes>"
            ]
          },
          "metadata": {
            "tags": [],
            "needs_background": "light"
          }
        }
      ]
    },
    {
      "cell_type": "markdown",
      "metadata": {
        "id": "RJY8v8kH9Phl",
        "colab_type": "text"
      },
      "source": [
        "#### Criação dos Modelos"
      ]
    },
    {
      "cell_type": "code",
      "metadata": {
        "id": "cM6Utc8UxHDm",
        "colab_type": "code",
        "colab": {}
      },
      "source": [
        "from tensorflow.keras.models import Sequential\n",
        "from tensorflow.keras.layers import Dense, Activation, Dropout\n",
        "from tensorflow.keras import optimizers\n",
        "\n",
        "def create_model(options : Individual, dropout=0, lr=0):\n",
        "  model = Sequential()\n",
        "  model.add(Dense(options.n_nodes, input_dim=4, activation=options.activation_function))\n",
        "  if dropout > 0:\n",
        "    model.add(Dropout(dropout))\n",
        "  for i in range(options.n_layers):\n",
        "    model.add(Dense(options.n_nodes, activation=options.activation_function))\n",
        "    if dropout > 0:\n",
        "      model.add(Dropout(dropout))\n",
        "  model.add(Dense(1, activation='sigmoid'))\n",
        "\n",
        "  if options.optimizer == \"adam\":\n",
        "    if lr == 0:\n",
        "      lr = 0.001\n",
        "    optimizer = optimizers.Adam(learning_rate = lr)\n",
        "  elif options.optimizer == \"rmsprop\":\n",
        "    if lr == 0:\n",
        "      lr = 0.001\n",
        "    optimizer = optimizers.RMSprop(learning_rate = lr)\n",
        "  elif options.optimizer == \"sgd\":\n",
        "    if lr == 0:\n",
        "      lr = 0.01\n",
        "    optimizer = optimizers.SGD(learning_rate = lr, momentum = 0.9)\n",
        "  elif options.optimizer == 'adagrad':\n",
        "    if lr == 0:\n",
        "      lr = 0.01\n",
        "    optimizer = optimizers.Adagrad(learning_rate = lr)\n",
        "  elif options.optimizer == 'adadelta':\n",
        "    if lr == 0:\n",
        "      lr = 1.0\n",
        "    optimizer = optimizers.Adadelta(learning_rate = lr)\n",
        "\n",
        "  # compile the keras model\n",
        "  model.compile(loss=options.loss, optimizer=optimizer, metrics=['accuracy'])\n",
        "\n",
        "  return model"
      ],
      "execution_count": 0,
      "outputs": []
    },
    {
      "cell_type": "code",
      "metadata": {
        "id": "k2-fVMBZ_S5z",
        "colab_type": "code",
        "colab": {}
      },
      "source": [
        "from sklearn.model_selection import StratifiedKFold\n",
        "from sklearn.metrics import confusion_matrix\n",
        "from tensorflow.keras.callbacks import EarlyStopping\n",
        "\n",
        "\n",
        "THRESHOLD = 0.5\n",
        "\n",
        "def run_neural_network(individual : Individual): # It lacks the classification threshold, but that should be decided in the end, depending on the FP and FN\n",
        "  model = create_model(individual)\n",
        "\n",
        "  history = model.fit(X_train, y_train, epochs=50, \n",
        "            verbose=0, batch_size=individual.n_batch_size, \n",
        "            validation_data=(X_test,y_test)) \n",
        " \n",
        "  y_pred=model.predict(X_test)\n",
        "  y_pred_final = [1 if n >= THRESHOLD else 0 for n in y_pred]\n",
        "\n",
        "  _, fp, fn, _ = confusion_matrix(y_test, y_pred_final).ravel()\n",
        "  #fps.append()\n",
        "  #fns.append()\n",
        "  #scores.append(accuracy * 100)\n",
        "\n",
        "  f1 = (fp / len(y_test)) * 100\n",
        "  f2 = (fn / len(y_test)) * 100\n",
        "  f3 = history.history['val_accuracy'][-1] * 100\n",
        "  return f1, f2, f3"
      ],
      "execution_count": 0,
      "outputs": []
    },
    {
      "cell_type": "code",
      "metadata": {
        "id": "T9YoSYg9_S5_",
        "colab_type": "code",
        "outputId": "c55f1f9b-1b6e-4581-d35b-0da5474f9345",
        "colab": {
          "base_uri": "https://localhost:8080/",
          "height": 588
        }
      },
      "source": [
        "data_x = data.drop(['Severity'], axis=1).to_numpy()\n",
        "print(data_x)\n",
        "data_y = data['Severity'].to_numpy()\n",
        "print(data_y)\n",
        "feature_names = np.array(data.drop(['Severity'], axis=1).columns)\n",
        "print(feature_names)"
      ],
      "execution_count": 0,
      "outputs": [
        {
          "output_type": "stream",
          "text": [
            "[[43.  1.  1.  5.]\n",
            " [58.  4.  5.  3.]\n",
            " [28.  1.  1.  3.]\n",
            " ...\n",
            " [64.  4.  5.  3.]\n",
            " [66.  4.  5.  3.]\n",
            " [62.  3.  3.  3.]]\n",
            "[1 1 0 1 0 0 0 1 1 1 1 0 0 0 0 0 1 1 0 1 1 0 1 1 1 0 0 1 0 0 1 1 0 0 0 0 1\n",
            " 1 0 0 0 0 0 1 1 1 0 0 1 0 1 0 0 1 0 0 0 0 1 1 1 0 0 1 0 0 1 0 0 0 1 0 1 1\n",
            " 0 1 0 1 0 0 1 1 0 1 0 1 0 0 1 1 1 0 1 0 1 0 0 0 0 0 0 0 0 0 0 1 0 0 1 0 1\n",
            " 0 0 0 0 0 0 1 0 1 0 0 0 0 0 0 0 0 1 1 1 0 0 1 1 1 1 0 1 1 0 0 0 0 1 1 1 1\n",
            " 0 1 1 0 0 0 0 1 0 0 1 1 0 0 0 0 1 1 0 1 1 0 0 0 0 0 1 0 0 0 1 0 0 0 0 1 1\n",
            " 1 0 1 1 0 1 0 1 0 1 0 1 0 0 0 0 1 0 0 1 0 1 0 0 0 0 1 1 1 0 0 0 0 0 0 0 1\n",
            " 1 1 0 1 0 0 0 0 1 1 0 1 0 0 0 1 0 1 0 0 0 1 0 0 1 0 0 0 1 0 1 1 0 1 1 1 1\n",
            " 1 0 0 0 1 0 1 0 1 1 1 1 1 0 1 0 1 0 1 0 1 0 0 1 1 1 0 0 1 0 1 0 1 1 0 1 0\n",
            " 1 0 1 1 0 0 0 0 0 0 0 0 0 1 1 1 1 0 1 0 0 0 1 1 1 0 1 0 0 0 0 1 1 1 0 1 1\n",
            " 0 1 1 1 1 0 1 1 0 0 0 1 0 1 0 0 1 1 0 0 1 0 0 1 1 0 1 1 0 1 0 0 0 1 1 1 1\n",
            " 0 0 0 1 1 0 1 0 1 0 1 1 0 0 1 0 0 0 0 1 1 0 0 0 1 1 0 0 1 0 1 0 1 1 1 1 0\n",
            " 0 1 0 1 0 1 1 1 0 1 1 1 1 0 0 0 1 0 1 0 1 1 0 1 0 1 1 1 1 1 0 1 1 1 0 1 1\n",
            " 1 0 0 1 1 1 0 0 1 0 0 1 1 1 0 0 0 1 0 0 0 1 1 0 1 0 1 0 0 0 0 0 0 1 0 1 0\n",
            " 0 0 0 0 0 1 1 0 1 1 1 1 1 1 1 0 0 1 0 1 0 0 0 0 1 1 1 1 0 0 1 1 1 0 0 1 0\n",
            " 0 1 1 1 0 0 1 1 1 0 1 0 0 0 0 0 1 0 1 1 0 0 0 0 1 1 0 0 1 1 1 1 0 0 0 1 0\n",
            " 0 1 0 1 1 0 0 0 1 1 0 0 0 1 0 0 0 0 0 1 0 0 1 0 0 0 0 1 0 0 0 0 1 1 0 1 1\n",
            " 0 0 0 1 0 1 1 0 1 1 1 0 1 1 0 0 1 1 1 0 1 1 0 1 0 1 0 0 0 0 1 1 0 1 0 0 0\n",
            " 0 0 0 1 0 1 0 0 0 1 1 0 1 0 0 0 1 0 0 1 0 1 0 1 0 1 1 0 0 1 1 0 1 1 1 0 0\n",
            " 0 1 0 1 1 1 1 1 1 1 1 1 0 0 0 0 1 1 1 1 1 1 1 0 0 1 1 0 0 0 1 0 1 1 1 0 1\n",
            " 0 1 0 0 1 0 0 0 1 1 0 0 0 1 1 0 0 0 1 0 1 0 1 1 0 0 1 1 0 0 0 0 0 1 0 0 0\n",
            " 0 0 0 0 0 1 0 1 0 0 0 1 1 0 0 1 1 1 1 0 1 1 1 0 1 1 0 0 1 0 0 1 0 1 0 0 0\n",
            " 0 0 0 0 1 1 0 1 0 1 1 0 0 1 1 0 0 1 1 1 0 1 1 1 0 0 0 1 1 0 1 0 1 1 1 0 1\n",
            " 0 0 0 0 0 1 0 0 1 1 0 1 1 0 1 1 0 1 1 0 1 0 1 0 0 0 0 1 0 0 0 0 0 1 0 0 1\n",
            " 0 0 1 0 1 0 1 1 1 1 1 1 1 0 1 0 0 0 1 0 1 1 0 0 0 0 1 0 1 1 0 1 1 1 0 1 1\n",
            " 1 1 1 1 0 0 1 0 1 0 1 1 1 0 1 1 0 0 1 1 0 1 0 1 0 1 0 0 1 0 0 0 1 0 1 1 0\n",
            " 1 0 1 0 0 1 0 0 0 1 0 0 0 0 1 0 1 0 1 0 0 0 1 0 1 1 1 0 0 1 0 1 0 1 0]\n",
            "['Age' 'Shape' 'Margin' 'Density']\n"
          ],
          "name": "stdout"
        }
      ]
    },
    {
      "cell_type": "code",
      "metadata": {
        "id": "XYcWrJw-6zf2",
        "colab_type": "code",
        "outputId": "a6376fcc-ebff-4a45-e9b7-02d11414bc91",
        "colab": {
          "base_uri": "https://localhost:8080/",
          "height": 134
        }
      },
      "source": [
        "from sklearn.preprocessing import StandardScaler\n",
        "\n",
        "scaler = StandardScaler()\n",
        "data_x_normalized = scaler.fit_transform(data_x)\n",
        "print(data_x_normalized)"
      ],
      "execution_count": 0,
      "outputs": [
        {
          "output_type": "stream",
          "text": [
            "[[-0.85923776 -1.39435297 -1.16481213  2.86326996]\n",
            " [ 0.15502765  0.93631247  1.2194515  -0.1131666 ]\n",
            " [-1.87350316 -1.39435297 -1.16481213 -0.1131666 ]\n",
            " ...\n",
            " [ 0.56073381  0.93631247  1.2194515  -0.1131666 ]\n",
            " [ 0.6959692   0.93631247  1.2194515  -0.1131666 ]\n",
            " [ 0.42549843  0.15942399  0.02731969 -0.1131666 ]]\n"
          ],
          "name": "stdout"
        }
      ]
    },
    {
      "cell_type": "code",
      "metadata": {
        "id": "3ckeJLwxyd5q",
        "colab_type": "code",
        "colab": {}
      },
      "source": [
        "import numpy as np\n",
        "from sklearn.model_selection import train_test_split\n",
        "\n",
        "X_train, X_test, y_train, y_test = train_test_split(data_x_normalized, data_y, test_size=0.25, random_state=15)"
      ],
      "execution_count": 0,
      "outputs": []
    },
    {
      "cell_type": "code",
      "metadata": {
        "id": "TQ2Gye4WnPFL",
        "colab_type": "code",
        "colab": {}
      },
      "source": [
        "def n_total_neurons(ns, alpha = 2):\n",
        "  n_total_neurons = ns / (alpha * 5)\n",
        "  return n_total_neurons"
      ],
      "execution_count": 0,
      "outputs": []
    },
    {
      "cell_type": "markdown",
      "metadata": {
        "id": "Tx_LmHx94uVF",
        "colab_type": "text"
      },
      "source": [
        "## Cálculo e Teste das Soluções Ótimas"
      ]
    },
    {
      "cell_type": "code",
      "metadata": {
        "id": "bHxHXi9l_S6L",
        "colab_type": "code",
        "outputId": "df1db95d-6460-4ed1-bd66-f8efb31e0610",
        "colab": {
          "base_uri": "https://localhost:8080/",
          "height": 1000
        }
      },
      "source": [
        "run_otimization()"
      ],
      "execution_count": 0,
      "outputs": [
        {
          "output_type": "stream",
          "text": [
            "/usr/local/lib/python3.6/dist-packages/numpy/core/_methods.py:217: RuntimeWarning: Degrees of freedom <= 0 for slice\n",
            "  keepdims=keepdims)\n",
            "/usr/local/lib/python3.6/dist-packages/numpy/core/_methods.py:186: RuntimeWarning: invalid value encountered in true_divide\n",
            "  arrmean, rcount, out=arrmean, casting='unsafe', subok=False)\n",
            "/usr/local/lib/python3.6/dist-packages/numpy/core/_methods.py:209: RuntimeWarning: invalid value encountered in double_scalars\n",
            "  ret = ret.dtype.type(ret / rcount)\n"
          ],
          "name": "stderr"
        },
        {
          "output_type": "stream",
          "text": [
            "Generation  0 !\n",
            "--- Individual  0\n",
            "- Fitness  52.25000139077505\n",
            "--- Individual  1\n",
            "- Fitness  53.66666694482167\n",
            "--- Individual  2\n",
            "- Fitness  51.12499805291494\n",
            "--- Individual  3\n",
            "- Fitness  53.04166750113169\n",
            "--- Individual  4\n",
            "- Fitness  51.041664719581604\n",
            "--- Individual  5\n",
            "- Fitness  51.875001668930054\n",
            "--- Individual  6\n",
            "- Fitness  50.66666499773662\n",
            "--- Individual  7\n",
            "- Fitness  51.08333138624827\n",
            "--- Individual  8\n",
            "- Fitness  52.125001668930054\n",
            "--- Individual  9\n",
            "- Fitness  50.79166499773662\n",
            "--- Individual  10\n",
            "- Fitness  55.74999888737996\n",
            "--- Individual  11\n",
            "- Fitness  50.33333194255829\n",
            "--- Individual  12\n",
            "- Fitness  52.41666805744171\n",
            "--- Individual  13\n",
            "- Fitness  52.83333416779835\n",
            "--- Individual  14\n",
            "- Fitness  50.66666499773662\n",
            "Mutated!\n",
            "Mutated!\n",
            "Mutated!\n",
            "Mutated!\n",
            "Generation  1 !\n",
            "--- Individual  15\n",
            "- Fitness  54.041666666666664\n",
            "--- Individual  16\n",
            "- Fitness  54.20833333333332\n",
            "--- Individual  17\n",
            "- Fitness  52.95833416779835\n",
            "--- Individual  18\n",
            "- Fitness  51.83333500226338\n",
            "--- Individual  19\n",
            "- Fitness  51.37500194708506\n",
            "--- Individual  20\n",
            "- Fitness  51.041664719581604\n",
            "--- Individual  21\n",
            "- Fitness  51.875001668930054\n",
            "--- Individual  22\n",
            "- Fitness  50.708331664403275\n",
            "--- Individual  23\n",
            "- Fitness  53.12500083446502\n",
            "--- Individual  24\n",
            "- Fitness  52.208334724108376\n",
            "--- Individual  25\n",
            "- Fitness  54.54166638851165\n",
            "--- Individual  26\n",
            "- Fitness  54.458333055178315\n",
            "--- Individual  27\n",
            "- Fitness  51.458335280418396\n",
            "--- Individual  28\n",
            "- Fitness  51.50000194708506\n",
            "--- Individual  29\n",
            "- Fitness  50.99999805291494\n",
            "Mutated!\n",
            "Mutated!\n",
            "Mutated!\n",
            "Mutated!\n",
            "Fitness still not converged, deviation at  3.3333390355111305\n",
            "Generation  2 !\n",
            "--- Individual  30\n",
            "- Fitness  53.00000083446502\n",
            "--- Individual  31\n",
            "- Fitness  54.41666638851165\n",
            "--- Individual  32\n",
            "- Fitness  51.875001668930054\n",
            "--- Individual  33\n",
            "- Fitness  50.708331664403275\n",
            "--- Individual  34\n",
            "- Fitness  55.333332498868295\n",
            "--- Individual  35\n",
            "- Fitness  55.16666583220164\n",
            "--- Individual  36\n",
            "- Fitness  49.29166611035665\n",
            "--- Individual  37\n",
            "- Fitness  51.08333138624827\n",
            "--- Individual  38\n",
            "- Fitness  52.208334724108376\n",
            "--- Individual  39\n",
            "- Fitness  54.791666110356644\n",
            "--- Individual  40\n",
            "- Fitness  50.416665275891624\n",
            "--- Individual  41\n",
            "- Fitness  54.41666638851165\n",
            "--- Individual  42\n",
            "- Fitness  54.87499944368997\n",
            "--- Individual  43\n",
            "- Fitness  53.29166722297668\n",
            "--- Individual  44\n",
            "- Fitness  53.50000055631001\n",
            "Mutated!\n",
            "Fitness still not converged, deviation at  6.013391985903854\n",
            "Generation  3 !\n",
            "--- Individual  45\n",
            "- Fitness  54.95833277702331\n",
            "--- Individual  46\n",
            "- Fitness  52.45833444595337\n",
            "--- Individual  47\n",
            "- Fitness  53.58333388964334\n",
            "--- Individual  48\n",
            "- Fitness  54.99999944368997\n",
            "--- Individual  49\n",
            "- Fitness  54.20833333333332\n",
            "--- Individual  50\n",
            "- Fitness  53.79166694482167\n",
            "--- Individual  51\n",
            "- Fitness  52.50000111262003\n",
            "--- Individual  52\n",
            "- Fitness  54.458333055178315\n",
            "--- Individual  53\n",
            "- Fitness  54.458333055178315\n",
            "--- Individual  54\n",
            "- Fitness  54.37499999999999\n",
            "--- Individual  55\n",
            "- Fitness  54.499999721844986\n",
            "--- Individual  56\n",
            "- Fitness  55.58333222071329\n",
            "--- Individual  57\n",
            "- Fitness  52.95833416779835\n",
            "--- Individual  58\n",
            "- Fitness  55.208332498868295\n",
            "--- Individual  59\n",
            "- Fitness  54.12499999999999\n",
            "Mutated!\n",
            "Mutated!\n",
            "Fitness still not converged, deviation at  12.159365290779007\n",
            "Generation  4 !\n",
            "--- Individual  60\n",
            "- Fitness  49.37499944368998\n",
            "--- Individual  61\n",
            "- Fitness  55.95833194255828\n",
            "--- Individual  62\n",
            "- Fitness  53.79166694482167\n",
            "--- Individual  63\n",
            "- Fitness  53.833333611488335\n",
            "--- Individual  64\n",
            "- Fitness  54.583333055178315\n",
            "--- Individual  65\n",
            "- Fitness  53.833333611488335\n",
            "--- Individual  66\n",
            "- Fitness  54.24999999999999\n",
            "--- Individual  67\n",
            "- Fitness  48.41666666666667\n",
            "--- Individual  68\n",
            "- Fitness  53.750000278155\n",
            "--- Individual  69\n",
            "- Fitness  50.95833138624827\n",
            "--- Individual  70\n",
            "- Fitness  51.83333500226338\n",
            "--- Individual  71\n",
            "- Fitness  53.41666722297668\n",
            "--- Individual  72\n",
            "- Fitness  52.87500083446502\n",
            "--- Individual  73\n",
            "- Fitness  52.541667779286705\n",
            "--- Individual  74\n",
            "- Fitness  49.29166611035665\n",
            "Mutated!\n",
            "Mutated!\n",
            "Mutated!\n",
            "Mutated!\n",
            "Fitness still not converged, deviation at  11.018891969811401\n",
            "Generation  5 !\n",
            "--- Individual  75\n",
            "- Fitness  50.416665275891624\n",
            "--- Individual  76\n",
            "- Fitness  52.95833416779835\n",
            "--- Individual  77\n",
            "- Fitness  53.04166750113169\n",
            "--- Individual  78\n",
            "- Fitness  52.12500139077505\n",
            "--- Individual  79\n",
            "- Fitness  53.750000278155\n",
            "--- Individual  80\n",
            "- Fitness  52.50000111262003\n",
            "--- Individual  81\n",
            "- Fitness  50.083332220713295\n",
            "--- Individual  82\n",
            "- Fitness  53.708333611488335\n",
            "--- Individual  83\n",
            "- Fitness  54.54166638851165\n",
            "--- Individual  84\n",
            "- Fitness  53.625000278155\n",
            "--- Individual  85\n",
            "- Fitness  50.83333138624827\n",
            "--- Individual  86\n",
            "- Fitness  54.08333333333332\n",
            "--- Individual  87\n",
            "- Fitness  55.208332498868295\n",
            "--- Individual  88\n",
            "- Fitness  53.33333388964334\n",
            "--- Individual  89\n",
            "- Fitness  50.33333194255829\n",
            "Mutated!\n",
            "Fitness still not converged, deviation at  9.252078327698404\n",
            "Generation  6 !\n",
            "--- Individual  90\n",
            "- Fitness  54.458333055178315\n",
            "--- Individual  91\n",
            "- Fitness  56.62499805291493\n",
            "--- Individual  92\n",
            "- Fitness  53.16666750113169\n",
            "--- Individual  93\n",
            "- Fitness  54.20833333333332\n",
            "--- Individual  94\n",
            "- Fitness  53.37500055631001\n",
            "--- Individual  95\n",
            "- Fitness  53.750000278155\n",
            "--- Individual  96\n",
            "- Fitness  54.499999721844986\n",
            "--- Individual  97\n",
            "- Fitness  53.79166694482167\n",
            "--- Individual  98\n",
            "- Fitness  51.875001668930054\n",
            "--- Individual  99\n",
            "- Fitness  54.41666638851165\n",
            "--- Individual  100\n",
            "- Fitness  55.208332498868295\n",
            "--- Individual  101\n",
            "- Fitness  54.24999999999999\n",
            "--- Individual  102\n",
            "- Fitness  51.83333500226338\n",
            "--- Individual  103\n",
            "- Fitness  54.83333277702331\n",
            "--- Individual  104\n",
            "- Fitness  51.041664719581604\n",
            "Mutated!\n",
            "Mutated!\n",
            "Mutated!\n",
            "Mutated!\n",
            "Mutated!\n",
            "Mutated!\n",
            "Fitness still not converged, deviation at  9.391005176536568\n",
            "Generation  7 !\n",
            "--- Individual  105\n",
            "- Fitness  51.20833138624827\n",
            "--- Individual  106\n",
            "- Fitness  54.41666638851165\n",
            "--- Individual  107\n",
            "- Fitness  50.708331664403275\n",
            "--- Individual  108\n",
            "- Fitness  54.458333055178315\n",
            "--- Individual  109\n",
            "- Fitness  51.41666861375173\n",
            "--- Individual  110\n",
            "- Fitness  48.29166666666667\n",
            "--- Individual  111\n",
            "- Fitness  52.25000139077505\n",
            "--- Individual  112\n",
            "- Fitness  53.875000278155\n",
            "--- Individual  113\n",
            "- Fitness  52.50000111262003\n",
            "--- Individual  114\n",
            "- Fitness  54.41666638851165\n",
            "--- Individual  115\n",
            "- Fitness  51.916668335596725\n",
            "--- Individual  116\n",
            "- Fitness  52.541667779286705\n",
            "--- Individual  117\n",
            "- Fitness  52.62500111262003\n",
            "--- Individual  118\n",
            "- Fitness  51.458335280418396\n",
            "--- Individual  119\n",
            "- Fitness  50.708331664403275\n",
            "Mutated!\n",
            "Mutated!\n",
            "Mutated!\n",
            "Fitness still not converged, deviation at  11.373231310462675\n",
            "Generation  8 !\n",
            "--- Individual  120\n",
            "- Fitness  51.54166861375173\n",
            "--- Individual  121\n",
            "- Fitness  50.291665275891624\n",
            "--- Individual  122\n",
            "- Fitness  53.33333388964334\n",
            "--- Individual  123\n",
            "- Fitness  54.12499999999999\n",
            "--- Individual  124\n",
            "- Fitness  52.208334724108376\n",
            "--- Individual  125\n",
            "- Fitness  53.99999999999999\n",
            "--- Individual  126\n",
            "- Fitness  53.79166694482167\n",
            "--- Individual  127\n",
            "- Fitness  52.541667779286705\n",
            "--- Individual  128\n",
            "- Fitness  51.750001668930054\n",
            "--- Individual  129\n",
            "- Fitness  52.29166805744171\n",
            "--- Individual  130\n",
            "- Fitness  54.12499999999999\n",
            "--- Individual  131\n",
            "- Fitness  53.45833388964334\n",
            "--- Individual  132\n",
            "- Fitness  53.00000083446502\n",
            "--- Individual  133\n",
            "- Fitness  54.83333277702331\n",
            "--- Individual  134\n",
            "- Fitness  53.750000278155\n",
            "Mutated!\n",
            "Mutated!\n",
            "Mutated!\n",
            "Fitness still not converged, deviation at  8.224555786348724\n",
            "Generation  9 !\n",
            "--- Individual  135\n",
            "- Fitness  49.4583324988683\n",
            "--- Individual  136\n",
            "- Fitness  50.708331664403275\n",
            "--- Individual  137\n",
            "- Fitness  51.875001668930054\n",
            "--- Individual  138\n",
            "- Fitness  52.58333444595337\n",
            "--- Individual  139\n",
            "- Fitness  54.499999721844986\n",
            "--- Individual  140\n",
            "- Fitness  51.916668335596725\n",
            "--- Individual  141\n",
            "- Fitness  52.333334724108376\n",
            "--- Individual  142\n",
            "- Fitness  52.25000139077505\n",
            "--- Individual  143\n",
            "- Fitness  51.916668335596725\n",
            "--- Individual  144\n",
            "- Fitness  51.83333500226338\n",
            "--- Individual  145\n",
            "- Fitness  52.25000139077505\n",
            "--- Individual  146\n",
            "- Fitness  49.49999916553497\n",
            "--- Individual  147\n",
            "- Fitness  53.50000055631001\n",
            "--- Individual  148\n",
            "- Fitness  53.20833388964334\n",
            "--- Individual  149\n",
            "- Fitness  54.08333333333332\n",
            "Mutated!\n",
            "Mutated!\n",
            "Mutated!\n",
            "Fitness still not converged, deviation at  9.293312066605662\n",
            "Generation  10 !\n",
            "--- Individual  150\n",
            "- Fitness  52.25000139077505\n",
            "--- Individual  151\n",
            "- Fitness  50.624998331069946\n",
            "--- Individual  152\n",
            "- Fitness  51.12499805291494\n",
            "--- Individual  153\n",
            "- Fitness  53.37500055631001\n",
            "--- Individual  154\n",
            "- Fitness  51.50000194708506\n",
            "--- Individual  155\n",
            "- Fitness  54.12499999999999\n",
            "--- Individual  156\n",
            "- Fitness  51.12499805291494\n",
            "--- Individual  157\n",
            "- Fitness  54.499999721844986\n",
            "--- Individual  158\n",
            "- Fitness  54.87499944368997\n",
            "--- Individual  159\n",
            "- Fitness  54.166666666666664\n",
            "--- Individual  160\n",
            "- Fitness  54.791666110356644\n",
            "--- Individual  161\n",
            "- Fitness  54.83333277702331\n",
            "--- Individual  162\n",
            "- Fitness  51.83333500226338\n",
            "--- Individual  163\n",
            "- Fitness  52.208334724108376\n",
            "--- Individual  164\n",
            "- Fitness  54.499999721844986\n",
            "Mutated!\n",
            "Mutated!\n",
            "Mutated!\n",
            "Fitness still not converged, deviation at  9.421492847483862\n",
            "Generation  11 !\n",
            "--- Individual  165\n",
            "- Fitness  52.12500139077505\n",
            "--- Individual  166\n",
            "- Fitness  54.74999944368997\n",
            "--- Individual  167\n",
            "- Fitness  50.291665275891624\n",
            "--- Individual  168\n",
            "- Fitness  51.41666861375173\n",
            "--- Individual  169\n",
            "- Fitness  53.37500055631001\n",
            "--- Individual  170\n",
            "- Fitness  55.208332498868295\n",
            "--- Individual  171\n",
            "- Fitness  52.25000139077505\n",
            "--- Individual  172\n",
            "- Fitness  53.50000055631001\n",
            "--- Individual  173\n",
            "- Fitness  50.20833194255829\n",
            "--- Individual  174\n",
            "- Fitness  53.79166694482167\n",
            "--- Individual  175\n",
            "- Fitness  54.54166638851165\n",
            "--- Individual  176\n",
            "- Fitness  55.249999165534966\n",
            "--- Individual  177\n",
            "- Fitness  54.791666110356644\n",
            "--- Individual  178\n",
            "- Fitness  53.08333416779835\n",
            "--- Individual  179\n",
            "- Fitness  52.70833444595337\n",
            "Mutated!\n",
            "Mutated!\n",
            "Mutated!\n",
            "Fitness still not converged, deviation at  6.756651029694804\n",
            "Generation  12 !\n",
            "--- Individual  180\n",
            "- Fitness  53.79166694482167\n",
            "--- Individual  181\n",
            "- Fitness  53.41666722297668\n",
            "--- Individual  182\n",
            "- Fitness  54.499999721844986\n",
            "--- Individual  183\n",
            "- Fitness  53.708333611488335\n",
            "--- Individual  184\n",
            "- Fitness  52.62500111262003\n",
            "--- Individual  185\n",
            "- Fitness  52.208334724108376\n",
            "--- Individual  186\n",
            "- Fitness  53.708333611488335\n",
            "--- Individual  187\n",
            "- Fitness  53.750000278155\n",
            "--- Individual  188\n",
            "- Fitness  54.12499999999999\n",
            "--- Individual  189\n",
            "- Fitness  52.58333444595337\n",
            "--- Individual  190\n",
            "- Fitness  51.041664719581604\n",
            "--- Individual  191\n",
            "- Fitness  51.37500194708506\n",
            "--- Individual  192\n",
            "- Fitness  53.750000278155\n",
            "--- Individual  193\n",
            "- Fitness  53.41666722297668\n",
            "--- Individual  194\n",
            "- Fitness  51.45833138624827\n",
            "Mutated!\n",
            "Mutated!\n",
            "Fitness still not converged, deviation at  5.646936075629422\n",
            "Generation  13 !\n",
            "--- Individual  195\n",
            "- Fitness  54.87499944368997\n",
            "--- Individual  196\n",
            "- Fitness  53.00000083446502\n",
            "--- Individual  197\n",
            "- Fitness  53.41666722297668\n",
            "--- Individual  198\n",
            "- Fitness  54.41666638851165\n",
            "--- Individual  199\n",
            "- Fitness  54.54166638851165\n",
            "--- Individual  200\n",
            "- Fitness  52.62500111262003\n",
            "--- Individual  201\n",
            "- Fitness  53.750000278155\n",
            "--- Individual  202\n",
            "- Fitness  53.750000278155\n",
            "--- Individual  203\n",
            "- Fitness  54.374999721844986\n",
            "--- Individual  204\n",
            "- Fitness  52.25000139077505\n",
            "--- Individual  205\n",
            "- Fitness  54.499999721844986\n",
            "--- Individual  206\n",
            "- Fitness  54.791666110356644\n",
            "--- Individual  207\n",
            "- Fitness  50.583331664403275\n",
            "--- Individual  208\n",
            "- Fitness  52.95833416779835\n",
            "--- Individual  209\n",
            "- Fitness  53.41666722297668\n",
            "Mutated!\n",
            "Mutated!\n",
            "Fitness still not converged, deviation at  7.00113800028795\n",
            "Generation  14 !\n",
            "--- Individual  210\n",
            "- Fitness  54.20833333333332\n",
            "--- Individual  211\n",
            "- Fitness  54.458333055178315\n",
            "--- Individual  212\n",
            "- Fitness  53.08333416779835\n",
            "--- Individual  213\n",
            "- Fitness  51.12499805291494\n",
            "--- Individual  214\n",
            "- Fitness  54.41666638851165\n",
            "--- Individual  215\n",
            "- Fitness  53.08333416779835\n",
            "--- Individual  216\n",
            "- Fitness  54.08333333333332\n",
            "--- Individual  217\n",
            "- Fitness  52.16666805744171\n",
            "--- Individual  218\n",
            "- Fitness  53.54166722297668\n",
            "--- Individual  219\n",
            "- Fitness  49.958332220713295\n",
            "--- Individual  220\n",
            "- Fitness  54.54166638851165\n",
            "--- Individual  221\n",
            "- Fitness  53.875000278155\n",
            "--- Individual  222\n",
            "- Fitness  54.166666666666664\n",
            "--- Individual  223\n",
            "- Fitness  51.70833500226338\n",
            "--- Individual  224\n",
            "- Fitness  51.458335280418396\n",
            "Mutated!\n",
            "Mutated!\n",
            "Mutated!\n",
            "Mutated!\n",
            "Generation  15 !\n",
            "--- Individual  225\n",
            "- Fitness  53.33333388964334\n",
            "--- Individual  226\n",
            "- Fitness  54.08333333333332\n",
            "--- Individual  227\n",
            "- Fitness  50.33333194255829\n",
            "--- Individual  228\n",
            "- Fitness  55.29166583220164\n",
            "--- Individual  229\n",
            "- Fitness  54.583333055178315\n",
            "--- Individual  230\n",
            "- Fitness  52.25000139077505\n",
            "--- Individual  231\n",
            "- Fitness  51.333335280418396\n",
            "--- Individual  232\n",
            "- Fitness  50.04166555404663\n",
            "--- Individual  233\n",
            "- Fitness  54.24999999999999\n",
            "--- Individual  234\n",
            "- Fitness  52.41666805744171\n",
            "--- Individual  235\n",
            "- Fitness  54.20833333333332\n",
            "--- Individual  236\n",
            "- Fitness  53.750000278155\n",
            "--- Individual  237\n",
            "- Fitness  54.166666666666664\n",
            "--- Individual  238\n",
            "- Fitness  53.45833388964334\n",
            "--- Individual  239\n",
            "- Fitness  54.20833333333332\n",
            "Mutated!\n",
            "Mutated!\n",
            "Mutated!\n",
            "Generation  16 !\n",
            "--- Individual  240\n",
            "- Fitness  55.16666583220164\n",
            "--- Individual  241\n",
            "- Fitness  50.291665275891624\n",
            "--- Individual  242\n",
            "- Fitness  51.50000194708506\n",
            "--- Individual  243\n",
            "- Fitness  52.58333444595337\n",
            "--- Individual  244\n",
            "- Fitness  53.04166750113169\n",
            "--- Individual  245\n",
            "- Fitness  53.750000278155\n",
            "--- Individual  246\n",
            "- Fitness  53.33333388964334\n",
            "--- Individual  247\n",
            "- Fitness  52.541667779286705\n",
            "--- Individual  248\n",
            "- Fitness  51.166664719581604\n",
            "--- Individual  249\n",
            "- Fitness  53.37500055631001\n",
            "--- Individual  250\n",
            "- Fitness  51.54166861375173\n",
            "--- Individual  251\n",
            "- Fitness  53.708333611488335\n",
            "--- Individual  252\n",
            "- Fitness  54.20833333333332\n",
            "--- Individual  253\n",
            "- Fitness  48.99999944368998\n",
            "--- Individual  254\n",
            "- Fitness  54.54166638851165\n",
            "Mutated!\n",
            "Fitness still not converged, deviation at  4.336328487146012\n",
            "Generation  17 !\n",
            "--- Individual  255\n",
            "- Fitness  54.12499999999999\n",
            "--- Individual  256\n",
            "- Fitness  53.00000083446502\n",
            "--- Individual  257\n",
            "- Fitness  53.29166722297668\n",
            "--- Individual  258\n",
            "- Fitness  54.166666666666664\n",
            "--- Individual  259\n",
            "- Fitness  52.70833444595337\n",
            "--- Individual  260\n",
            "- Fitness  54.83333277702331\n",
            "--- Individual  261\n",
            "- Fitness  54.24999999999999\n",
            "--- Individual  262\n",
            "- Fitness  53.50000055631001\n",
            "--- Individual  263\n",
            "- Fitness  54.12499999999999\n",
            "--- Individual  264\n",
            "- Fitness  54.12499999999999\n",
            "--- Individual  265\n",
            "- Fitness  51.08333138624827\n",
            "--- Individual  266\n",
            "- Fitness  49.24999944368998\n",
            "--- Individual  267\n",
            "- Fitness  48.58333333333333\n",
            "--- Individual  268\n",
            "- Fitness  50.708331664403275\n",
            "--- Individual  269\n",
            "- Fitness  53.45833388964334\n",
            "Mutated!\n",
            "Mutated!\n",
            "Mutated!\n",
            "Fitness still not converged, deviation at  4.8279138492969675\n",
            "Generation  18 !\n",
            "--- Individual  270\n",
            "- Fitness  53.41666722297668\n",
            "--- Individual  271\n",
            "- Fitness  52.58333444595337\n",
            "--- Individual  272\n",
            "- Fitness  54.41666638851165\n",
            "--- Individual  273\n",
            "- Fitness  52.29166805744171\n",
            "--- Individual  274\n",
            "- Fitness  55.333332498868295\n",
            "--- Individual  275\n",
            "- Fitness  51.916668335596725\n",
            "--- Individual  276\n",
            "- Fitness  55.208332498868295\n",
            "--- Individual  277\n",
            "- Fitness  53.66666694482167\n",
            "--- Individual  278\n",
            "- Fitness  52.70833444595337\n",
            "--- Individual  279\n",
            "- Fitness  52.62500111262003\n",
            "--- Individual  280\n",
            "- Fitness  51.750001668930054\n",
            "--- Individual  281\n",
            "- Fitness  53.04166750113169\n",
            "--- Individual  282\n",
            "- Fitness  51.08333138624827\n",
            "--- Individual  283\n",
            "- Fitness  52.25000139077505\n",
            "--- Individual  284\n",
            "- Fitness  53.12500083446502\n",
            "Mutated!\n",
            "Fitness still not converged, deviation at  3.004326608319479\n",
            "Generation  19 !\n",
            "--- Individual  285\n",
            "- Fitness  54.041666666666664\n",
            "--- Individual  286\n",
            "- Fitness  54.458333055178315\n",
            "--- Individual  287\n",
            "- Fitness  53.708333611488335\n",
            "--- Individual  288\n",
            "- Fitness  51.916668335596725\n",
            "--- Individual  289\n",
            "- Fitness  54.499999721844986\n",
            "--- Individual  290\n",
            "- Fitness  51.66666861375173\n",
            "--- Individual  291\n",
            "- Fitness  54.458333055178315\n",
            "--- Individual  292\n",
            "- Fitness  53.750000278155\n",
            "--- Individual  293\n",
            "- Fitness  52.29166805744171\n",
            "--- Individual  294\n",
            "- Fitness  54.08333333333332\n",
            "--- Individual  295\n",
            "- Fitness  51.12499805291494\n",
            "--- Individual  296\n",
            "- Fitness  51.041664719581604\n",
            "--- Individual  297\n",
            "- Fitness  50.04166555404663\n",
            "--- Individual  298\n",
            "- Fitness  54.499999721844986\n",
            "--- Individual  299\n",
            "- Fitness  53.37500055631001\n",
            "Mutated!\n",
            "Generation  20 !\n",
            "--- Individual  300\n",
            "- Fitness  49.7083324988683\n",
            "--- Individual  301\n",
            "- Fitness  54.166666666666664\n",
            "--- Individual  302\n",
            "- Fitness  54.12499999999999\n",
            "--- Individual  303\n",
            "- Fitness  54.166666666666664\n",
            "--- Individual  304\n",
            "- Fitness  55.208332498868295\n",
            "--- Individual  305\n",
            "- Fitness  54.499999721844986\n",
            "--- Individual  306\n",
            "- Fitness  49.91666555404663\n",
            "--- Individual  307\n",
            "- Fitness  52.62500111262003\n",
            "--- Individual  308\n",
            "- Fitness  54.08333333333332\n",
            "--- Individual  309\n",
            "- Fitness  51.583335280418396\n",
            "--- Individual  310\n",
            "- Fitness  52.541667779286705\n",
            "--- Individual  311\n",
            "- Fitness  49.87499888737997\n",
            "--- Individual  312\n",
            "- Fitness  54.12499999999999\n",
            "--- Individual  313\n",
            "- Fitness  54.499999721844986\n",
            "--- Individual  314\n",
            "- Fitness  52.416667779286705\n",
            "Mutated!\n",
            "Mutated!\n",
            "Mutated!\n",
            "Mutated!\n",
            "Mutated!\n",
            "Mutated!\n",
            "Mutated!\n",
            "Generation  21 !\n",
            "--- Individual  315\n",
            "- Fitness  55.29166583220164\n",
            "--- Individual  316\n",
            "- Fitness  55.45833222071329\n",
            "--- Individual  317\n",
            "- Fitness  54.54166638851165\n",
            "--- Individual  318\n",
            "- Fitness  52.208334724108376\n",
            "--- Individual  319\n",
            "- Fitness  49.74999916553497\n",
            "--- Individual  320\n",
            "- Fitness  50.33333194255829\n",
            "--- Individual  321\n",
            "- Fitness  53.750000278155\n",
            "--- Individual  322\n",
            "- Fitness  50.708331664403275\n",
            "--- Individual  323\n",
            "- Fitness  55.83333194255828\n",
            "--- Individual  324\n",
            "- Fitness  54.08333333333332\n",
            "--- Individual  325\n",
            "- Fitness  51.041664719581604\n",
            "--- Individual  326\n",
            "- Fitness  54.791666110356644\n",
            "--- Individual  327\n",
            "- Fitness  52.87500083446502\n",
            "--- Individual  328\n",
            "- Fitness  54.041666666666664\n",
            "--- Individual  329\n",
            "- Fitness  55.208332498868295\n",
            "Mutated!\n",
            "Mutated!\n",
            "Generation  22 !\n",
            "--- Individual  330\n",
            "- Fitness  53.708333611488335\n",
            "--- Individual  331\n",
            "- Fitness  54.166666666666664\n",
            "--- Individual  332\n",
            "- Fitness  54.916666110356644\n",
            "--- Individual  333\n",
            "- Fitness  52.58333444595337\n",
            "--- Individual  334\n",
            "- Fitness  54.12499999999999\n",
            "--- Individual  335\n",
            "- Fitness  53.41666722297668\n",
            "--- Individual  336\n",
            "- Fitness  49.99999888737997\n",
            "--- Individual  337\n",
            "- Fitness  52.62500111262003\n",
            "--- Individual  338\n",
            "- Fitness  51.166664719581604\n",
            "--- Individual  339\n",
            "- Fitness  50.41666499773662\n",
            "--- Individual  340\n",
            "- Fitness  54.249999721844986\n",
            "--- Individual  341\n",
            "- Fitness  54.791666110356644\n",
            "--- Individual  342\n",
            "- Fitness  50.291665275891624\n",
            "--- Individual  343\n",
            "- Fitness  54.66666638851165\n",
            "--- Individual  344\n",
            "- Fitness  54.87499944368997\n",
            "Mutated!\n",
            "Mutated!\n",
            "Generation  23 !\n",
            "--- Individual  345\n",
            "- Fitness  53.37500055631001\n",
            "--- Individual  346\n",
            "- Fitness  54.499999721844986\n",
            "--- Individual  347\n",
            "- Fitness  53.91666694482167\n",
            "--- Individual  348\n",
            "- Fitness  53.41666694482167\n",
            "--- Individual  349\n",
            "- Fitness  54.12499999999999\n",
            "--- Individual  350\n",
            "- Fitness  54.499999721844986\n",
            "--- Individual  351\n",
            "- Fitness  51.041664719581604\n",
            "--- Individual  352\n",
            "- Fitness  53.41666722297668\n",
            "--- Individual  353\n",
            "- Fitness  51.041664719581604\n",
            "--- Individual  354\n",
            "- Fitness  54.20833333333332\n",
            "--- Individual  355\n",
            "- Fitness  52.62500111262003\n",
            "--- Individual  356\n",
            "- Fitness  55.249999165534966\n",
            "--- Individual  357\n",
            "- Fitness  51.41666861375173\n",
            "--- Individual  358\n",
            "- Fitness  55.041666110356644\n",
            "--- Individual  359\n",
            "- Fitness  51.875001668930054\n",
            "Mutated!\n",
            "Mutated!\n",
            "Generation  24 !\n",
            "--- Individual  360\n",
            "- Fitness  53.833333611488335\n",
            "--- Individual  361\n",
            "- Fitness  55.541665554046624\n",
            "--- Individual  362\n",
            "- Fitness  56.37499833106994\n",
            "--- Individual  363\n",
            "- Fitness  55.208332498868295\n",
            "--- Individual  364\n",
            "- Fitness  54.583333055178315\n",
            "--- Individual  365\n",
            "- Fitness  55.62499888737996\n",
            "--- Individual  366\n",
            "- Fitness  53.29166722297668\n",
            "--- Individual  367\n",
            "- Fitness  54.24999999999999\n",
            "--- Individual  368\n",
            "- Fitness  54.916666110356644\n",
            "--- Individual  369\n",
            "- Fitness  50.33333194255829\n",
            "--- Individual  370\n",
            "- Fitness  53.79166694482167\n",
            "--- Individual  371\n",
            "- Fitness  53.79166694482167\n",
            "--- Individual  372\n",
            "- Fitness  55.541665554046624\n",
            "--- Individual  373\n",
            "- Fitness  50.79166499773662\n",
            "--- Individual  374\n",
            "- Fitness  52.666667779286705\n",
            "Mutated!\n",
            "Mutated!\n",
            "Mutated!\n",
            "Fitness still not converged, deviation at  5.811946802773754\n",
            "Generation  25 !\n",
            "--- Individual  375\n",
            "- Fitness  51.791668335596725\n",
            "--- Individual  376\n",
            "- Fitness  54.916666110356644\n",
            "--- Individual  377\n",
            "- Fitness  53.41666722297668\n",
            "--- Individual  378\n",
            "- Fitness  55.62499888737996\n",
            "--- Individual  379\n",
            "- Fitness  55.29166583220164\n",
            "--- Individual  380\n",
            "- Fitness  55.29166583220164\n",
            "--- Individual  381\n",
            "- Fitness  51.91666805744171\n",
            "--- Individual  382\n",
            "- Fitness  54.583333055178315\n",
            "--- Individual  383\n",
            "- Fitness  54.08333333333332\n",
            "--- Individual  384\n",
            "- Fitness  55.16666583220164\n",
            "--- Individual  385\n",
            "- Fitness  55.999998609224946\n",
            "--- Individual  386\n",
            "- Fitness  51.25000194708506\n",
            "--- Individual  387\n",
            "- Fitness  55.58333222071329\n",
            "--- Individual  388\n",
            "- Fitness  55.249999165534966\n",
            "--- Individual  389\n",
            "- Fitness  54.583333055178315\n",
            "Mutated!\n",
            "Mutated!\n",
            "Mutated!\n",
            "Mutated!\n",
            "Mutated!\n",
            "Fitness still not converged, deviation at  7.168100747243046\n",
            "Generation  26 !\n",
            "--- Individual  390\n",
            "- Fitness  54.08333333333332\n",
            "--- Individual  391\n",
            "- Fitness  50.749998331069946\n",
            "--- Individual  392\n",
            "- Fitness  54.87499944368997\n",
            "--- Individual  393\n",
            "- Fitness  53.41666722297668\n",
            "--- Individual  394\n",
            "- Fitness  55.249999165534966\n",
            "--- Individual  395\n",
            "- Fitness  55.041666110356644\n",
            "--- Individual  396\n",
            "- Fitness  54.916666110356644\n",
            "--- Individual  397\n",
            "- Fitness  50.83333138624827\n",
            "--- Individual  398\n",
            "- Fitness  53.833333611488335\n",
            "--- Individual  399\n",
            "- Fitness  50.708331664403275\n",
            "--- Individual  400\n",
            "- Fitness  54.166666666666664\n",
            "--- Individual  401\n",
            "- Fitness  50.749998331069946\n",
            "--- Individual  402\n",
            "- Fitness  54.624999721844986\n",
            "--- Individual  403\n",
            "- Fitness  54.54166638851165\n",
            "--- Individual  404\n",
            "- Fitness  55.70833222071329\n",
            "Mutated!\n",
            "Mutated!\n",
            "Mutated!\n",
            "Mutated!\n",
            "Mutated!\n",
            "Fitness still not converged, deviation at  6.878125358101868\n",
            "Generation  27 !\n",
            "--- Individual  405\n",
            "- Fitness  54.499999721844986\n",
            "--- Individual  406\n",
            "- Fitness  54.54166638851165\n",
            "--- Individual  407\n",
            "- Fitness  53.41666722297668\n",
            "--- Individual  408\n",
            "- Fitness  55.333332498868295\n",
            "--- Individual  409\n",
            "- Fitness  52.208334724108376\n",
            "--- Individual  410\n",
            "- Fitness  54.374999721844986\n",
            "--- Individual  411\n",
            "- Fitness  55.333332498868295\n",
            "--- Individual  412\n",
            "- Fitness  50.833331664403275\n",
            "--- Individual  413\n",
            "- Fitness  52.791667779286705\n",
            "--- Individual  414\n",
            "- Fitness  54.166666666666664\n",
            "--- Individual  415\n",
            "- Fitness  53.50000055631001\n",
            "--- Individual  416\n",
            "- Fitness  53.45833388964334\n",
            "--- Individual  417\n",
            "- Fitness  50.99999805291494\n",
            "--- Individual  418\n",
            "- Fitness  54.95833277702331\n",
            "--- Individual  419\n",
            "- Fitness  52.75000111262003\n",
            "Mutated!\n",
            "Mutated!\n",
            "Mutated!\n",
            "Fitness still not converged, deviation at  5.4762357596137585\n",
            "Generation  28 !\n",
            "--- Individual  420\n",
            "- Fitness  54.916666110356644\n",
            "--- Individual  421\n",
            "- Fitness  54.166666666666664\n",
            "--- Individual  422\n",
            "- Fitness  50.37499860922495\n",
            "--- Individual  423\n",
            "- Fitness  54.12499999999999\n",
            "--- Individual  424\n",
            "- Fitness  54.87499944368997\n",
            "--- Individual  425\n",
            "- Fitness  55.249999165534966\n",
            "--- Individual  426\n",
            "- Fitness  54.54166638851165\n",
            "--- Individual  427\n",
            "- Fitness  54.916666110356644\n",
            "--- Individual  428\n",
            "- Fitness  51.83333500226338\n",
            "--- Individual  429\n",
            "- Fitness  54.166666666666664\n",
            "--- Individual  430\n",
            "- Fitness  55.208332498868295\n",
            "--- Individual  431\n",
            "- Fitness  53.750000278155\n",
            "--- Individual  432\n",
            "- Fitness  54.99999944368997\n",
            "--- Individual  433\n",
            "- Fitness  55.249999165534966\n",
            "--- Individual  434\n",
            "- Fitness  54.041666666666664\n",
            "Mutated!\n",
            "Mutated!\n",
            "Mutated!\n",
            "Mutated!\n",
            "Mutated!\n",
            "Fitness still not converged, deviation at  4.718316256215304\n",
            "Generation  29 !\n",
            "--- Individual  435\n",
            "- Fitness  51.66666861375173\n",
            "--- Individual  436\n",
            "- Fitness  52.541667779286705\n",
            "--- Individual  437\n",
            "- Fitness  54.24999999999999\n",
            "--- Individual  438\n",
            "- Fitness  53.708333611488335\n",
            "--- Individual  439\n",
            "- Fitness  49.666665832201645\n",
            "--- Individual  440\n",
            "- Fitness  54.20833333333332\n",
            "--- Individual  441\n",
            "- Fitness  52.95833416779835\n",
            "--- Individual  442\n",
            "- Fitness  53.25000055631001\n",
            "--- Individual  443\n",
            "- Fitness  54.916666110356644\n",
            "--- Individual  444\n",
            "- Fitness  50.87499805291494\n",
            "--- Individual  445\n",
            "- Fitness  51.20833138624827\n",
            "--- Individual  446\n",
            "- Fitness  53.04166750113169\n",
            "--- Individual  447\n",
            "- Fitness  54.12499999999999\n",
            "--- Individual  448\n",
            "- Fitness  51.37500194708506\n",
            "--- Individual  449\n",
            "- Fitness  52.58333444595337\n",
            "Mutated!\n",
            "Mutated!\n",
            "Mutated!\n",
            "Mutated!\n",
            "Fitness still not converged, deviation at  8.595878686900427\n"
          ],
          "name": "stdout"
        },
        {
          "output_type": "display_data",
          "data": {
            "image/png": "[encoded data removed]",
            "text/plain": [
              "<Figure size 432x288 with 1 Axes>"
            ]
          },
          "metadata": {
            "tags": [],
            "needs_background": "light"
          }
        },
        {
          "output_type": "display_data",
          "data": {
            "image/png": "[encoded data removed]",
            "text/plain": [
              "<Figure size 432x288 with 1 Axes>"
            ]
          },
          "metadata": {
            "tags": [],
            "needs_background": "light"
          }
        }
      ]
    },
    {
      "cell_type": "code",
      "metadata": {
        "id": "pVDlIBzW4w77",
        "colab_type": "code",
        "colab": {}
      },
      "source": [
        "def test_solution(i,threshold=THRESHOLD, dropout=0, lr=0):\n",
        "  #K-Cross Validation\n",
        "  accuracys = []\n",
        "  fps = []\n",
        "  fns = []\n",
        "\n",
        "  kfold = StratifiedKFold(n_splits=5, shuffle=True, random_state=15)\n",
        "\n",
        "  for train,test in kfold.split(data_x_normalized,data_y):\n",
        "    model3 = create_model(i, dropout, lr)\n",
        "    es = EarlyStopping(monitor='val_loss', mode='min', verbose=1, patience=50)# compile the keras model\n",
        "    history = model3.fit(data_x_normalized[train], data_y[train], epochs=450, \n",
        "                          verbose=0, batch_size=500, validation_data=(data_x_normalized[test], data_y[test]), callbacks=[es])\n",
        "\n",
        "    y_pred=model3.predict(data_x_normalized[test])\n",
        "    y_pred_final = [1 if n >= threshold else 0 for n in y_pred]\n",
        "    #print(y_pred_final)\n",
        "    #print(data_y[test])\n",
        "\n",
        "    _, fp, fn, _ = confusion_matrix(data_y[test], y_pred_final).ravel()\n",
        "\n",
        "    fps.append((fp / len(test)) * 100)\n",
        "    fns.append((fn / len(test)) * 100)\n",
        "    accuracys.append(history.history['val_accuracy'][-1] * 100)\n",
        "\n",
        "    # summarize history for accuracy\n",
        "    #plt.plot(history.history['accuracy'])\n",
        "    #plt.plot(history.history['val_accuracy'])\n",
        "    #plt.title('model accuracy')\n",
        "    #plt.ylabel('accuracy')\n",
        "    #plt.xlabel('epoch')\n",
        "    #plt.legend(['train', 'test'], loc='upper left')\n",
        "    #plt.show()\n",
        "    # summarize history for loss\n",
        "    #plt.plot(history.history['loss'])\n",
        "    #plt.plot(history.history['val_loss'])\n",
        "    #plt.title('model loss')\n",
        "    #plt.ylabel('loss')\n",
        "    #plt.xlabel('epoch')\n",
        "    #plt.legend(['train', 'test'], loc='upper left')\n",
        "    #plt.show()\n",
        "\n",
        "  print(\"Results:\")\n",
        "  print(\"ACC: \", np.mean(accuracys))\n",
        "  print(\"FPS: \", np.mean(fps))\n",
        "  print(\"FNS: \", np.mean(fns))"
      ],
      "execution_count": 0,
      "outputs": []
    },
    {
      "cell_type": "code",
      "metadata": {
        "id": "e4cJxWcAbxdu",
        "colab_type": "code",
        "colab": {}
      },
      "source": [
        "def optimize_learning_rate(ind, iterations=10, threshold=THRESHOLD):\n",
        "  dropout = [0.1, 0.2, 0.5]\n",
        "  lr = [1,0.1,0.01,0.001,0.0001]\n",
        "\n",
        "  results = {}\n",
        "  for i in range(iterations):\n",
        "    print(\"Iteration: \",i)\n",
        "    drop = random.choice(dropout)\n",
        "    learn_rate = random.choice(lr)\n",
        "\n",
        "    accuracys = []\n",
        "    fps = []\n",
        "    fns = []\n",
        "\n",
        "\n",
        "    kfold = StratifiedKFold(n_splits=5, shuffle=True, random_state=15)\n",
        "\n",
        "    for train,test in kfold.split(data_x_normalized,data_y):\n",
        "      model3 = create_model(ind, drop, learn_rate)\n",
        "      es = EarlyStopping(monitor='val_loss', mode='min', verbose=1, patience=50)# compile the keras model\n",
        "      history = model3.fit(data_x_normalized[train], data_y[train], epochs=450, \n",
        "                            verbose=0, batch_size=500, validation_data=(data_x_normalized[test], data_y[test]), callbacks=[es])\n",
        "\n",
        "      y_pred=model3.predict(data_x_normalized[test])\n",
        "      y_pred_final = [1 if n >= threshold else 0 for n in y_pred]\n",
        "      #print(y_pred_final)\n",
        "      #print(data_y[test])\n",
        "\n",
        "      _, fp, fn, _ = confusion_matrix(data_y[test], y_pred_final).ravel()\n",
        "\n",
        "      fps.append((fp / len(test)) * 100)\n",
        "      fns.append((fn / len(test)) * 100)\n",
        "      accuracys.append(history.history['val_accuracy'][-1] * 100)\n",
        "\n",
        "      # summarize history for accuracy\n",
        "      #plt.plot(history.history['accuracy'])\n",
        "      #plt.plot(history.history['val_accuracy'])\n",
        "      #plt.title('model accuracy')\n",
        "      #plt.ylabel('accuracy')\n",
        "      #plt.xlabel('epoch')\n",
        "      #plt.legend(['train', 'test'], loc='upper left')\n",
        "      #plt.show()\n",
        "      # summarize history for loss\n",
        "      #plt.plot(history.history['loss'])\n",
        "      #plt.plot(history.history['val_loss'])\n",
        "      #plt.title('model loss')\n",
        "      #plt.ylabel('loss')\n",
        "      #plt.xlabel('epoch')\n",
        "      #plt.legend(['train', 'test'], loc='upper left')\n",
        "      #plt.show()\n",
        "      #print(\"Results:\")\n",
        "    \n",
        "    results[i] = {\n",
        "        \"dropout\": drop,\n",
        "        \"learning_rate\": learn_rate,\n",
        "        \"acc\": np.mean(accuracys),\n",
        "        \"fps\": np.mean(fps),\n",
        "        \"fns\": np.mean(fns)\n",
        "    }\n",
        "\n",
        "  print(results)"
      ],
      "execution_count": 0,
      "outputs": []
    },
    {
      "cell_type": "code",
      "metadata": {
        "id": "kPT2MQXRQy3i",
        "colab_type": "code",
        "colab": {}
      },
      "source": [
        "ttt1 = Individual(4,64,32,'tanh',20,'rmsprop','binary_crossentropy')\n",
        "#optimize_learning_rate(ttt1)\n",
        "ttt2 = Individual(4,64,64,'tanh',20,'rmsprop','binary_crossentropy')\n",
        "#optimize_learning_rate(ttt2)\n",
        "ttt3 = Individual(4,64,64,'tanh',20,'adam','binary_crossentropy')\n",
        "#optimize_learning_rate(ttt3)"
      ],
      "execution_count": 0,
      "outputs": []
    },
    {
      "cell_type": "code",
      "metadata": {
        "id": "3baleDl-IBca",
        "colab_type": "code",
        "colab": {}
      },
      "source": [
        "ttt1 = Individual(4,64,32,'tanh',20,'rmsprop','binary_crossentropy')\n",
        "test_solution(ttt1,0.45,0.5,0.01)\n",
        "ttt2 = Individual(4,64,64,'tanh',20,'rmsprop','binary_crossentropy')\n",
        "test_solution(ttt2,0.45,0.2,0.0001)\n",
        "ttt3 = Individual(4,64,64,'tanh',20,'adam','binary_crossentropy')\n",
        "test_solution(ttt3,0.45,0.2,0.001)"
      ],
      "execution_count": 0,
      "outputs": []
    },
    {
      "cell_type": "code",
      "metadata": {
        "id": "wpoYzKRmEYOY",
        "colab_type": "code",
        "outputId": "b3e1986c-53cb-4c28-b4c9-52d9debc704e",
        "colab": {
          "base_uri": "https://localhost:8080/",
          "height": 1000
        }
      },
      "source": [
        "ttt4 = Individual(7,16,32,'elu',20,'adam','binary_crossentropy')\n",
        "optimize_learning_rate(ttt4)"
      ],
      "execution_count": 0,
      "outputs": [
        {
          "output_type": "stream",
          "text": [
            "Iteration:  0\n",
            "Epoch 00072: early stopping\n",
            "Epoch 00103: early stopping\n",
            "Epoch 00151: early stopping\n",
            "Epoch 00101: early stopping\n",
            "Epoch 00054: early stopping\n",
            "Iteration:  1\n",
            "Epoch 00069: early stopping\n",
            "Epoch 00113: early stopping\n",
            "Epoch 00105: early stopping\n",
            "Epoch 00129: early stopping\n",
            "Epoch 00066: early stopping\n",
            "Iteration:  2\n",
            "Epoch 00076: early stopping\n",
            "Epoch 00066: early stopping\n",
            "Epoch 00162: early stopping\n",
            "Epoch 00080: early stopping\n",
            "Epoch 00105: early stopping\n",
            "Iteration:  3\n",
            "Epoch 00072: early stopping\n",
            "Epoch 00081: early stopping\n",
            "Epoch 00170: early stopping\n",
            "Epoch 00135: early stopping\n",
            "Epoch 00081: early stopping\n",
            "Iteration:  4\n",
            "Epoch 00052: early stopping\n",
            "Epoch 00051: early stopping\n",
            "Epoch 00051: early stopping\n",
            "Epoch 00058: early stopping\n",
            "Iteration:  5\n",
            "Epoch 00115: early stopping\n",
            "Epoch 00074: early stopping\n",
            "Epoch 00067: early stopping\n",
            "Epoch 00058: early stopping\n",
            "Epoch 00131: early stopping\n",
            "Iteration:  6\n",
            "Epoch 00168: early stopping\n",
            "Epoch 00076: early stopping\n",
            "Epoch 00071: early stopping\n",
            "Epoch 00172: early stopping\n",
            "Epoch 00070: early stopping\n",
            "Iteration:  7\n",
            "Epoch 00233: early stopping\n",
            "Epoch 00057: early stopping\n",
            "Epoch 00073: early stopping\n",
            "Epoch 00069: early stopping\n",
            "Epoch 00286: early stopping\n",
            "Iteration:  8\n",
            "Epoch 00065: early stopping\n",
            "Epoch 00079: early stopping\n",
            "Epoch 00079: early stopping\n",
            "Epoch 00097: early stopping\n",
            "Epoch 00105: early stopping\n",
            "Iteration:  9\n",
            "Epoch 00140: early stopping\n",
            "Epoch 00255: early stopping\n",
            "Epoch 00236: early stopping\n",
            "Epoch 00280: early stopping\n",
            "Epoch 00312: early stopping\n",
            "{0: {'dropout': 0.1, 'learning_rate': 0.1, 'acc': 76.875, 'fps': 14.895833333333332, 'fns': 8.229166666666668}, 1: {'dropout': 0.5, 'learning_rate': 1, 'acc': 52.29166567325592, 'fps': 10.729166666666668, 'fns': 36.979166666666664}, 2: {'dropout': 0.2, 'learning_rate': 0.001, 'acc': 78.22916746139526, 'fps': 13.541666666666666, 'fns': 8.229166666666666}, 3: {'dropout': 0.1, 'learning_rate': 0.1, 'acc': 78.02083492279053, 'fps': 13.645833333333332, 'fns': 8.333333333333334}, 4: {'dropout': 0.5, 'learning_rate': 0.1, 'acc': 52.29166567325592, 'fps': 10.729166666666668, 'fns': 36.979166666666664}, 5: {'dropout': 0.2, 'learning_rate': 0.1, 'acc': 73.64583373069763, 'fps': 19.687499999999996, 'fns': 6.666666666666667}, 6: {'dropout': 0.2, 'learning_rate': 1, 'acc': 52.18749821186066, 'fps': 10.833333333333334, 'fns': 36.979166666666664}, 7: {'dropout': 0.5, 'learning_rate': 0.001, 'acc': 70.3124988079071, 'fps': 13.229166666666666, 'fns': 16.458333333333332}, 8: {'dropout': 0.5, 'learning_rate': 0.01, 'acc': 77.5, 'fps': 14.166666666666668, 'fns': 8.333333333333334}, 9: {'dropout': 0.2, 'learning_rate': 0.0001, 'acc': 78.4375, 'fps': 13.75, 'fns': 7.8125}}\n"
          ],
          "name": "stdout"
        }
      ]
    },
    {
      "cell_type": "code",
      "metadata": {
        "id": "qB0EkD5TEnwF",
        "colab_type": "code",
        "outputId": "4ba93778-bd70-49fc-f20f-bc7b63dffa4e",
        "colab": {
          "base_uri": "https://localhost:8080/",
          "height": 151
        }
      },
      "source": [
        "test_solution(ttt4,0.45,0.2,0.0001)"
      ],
      "execution_count": 0,
      "outputs": [
        {
          "output_type": "stream",
          "text": [
            "Epoch 00107: early stopping\n",
            "Epoch 00395: early stopping\n",
            "Epoch 00316: early stopping\n",
            "Epoch 00433: early stopping\n",
            "Results:\n",
            "ACC:  77.60416746139526\n",
            "FPS:  14.0625\n",
            "FNS:  8.020833333333332\n"
          ],
          "name": "stdout"
        }
      ]
    }
  ],
  "metadata": {
    "kernelspec": {
      "name": "python3",
      "display_name": "Python 3"
    },
    "language_info": {
      "codemirror_mode": {
        "name": "ipython",
        "version": 3
      },
      "file_extension": ".py",
      "mimetype": "text/x-python",
      "name": "python",
      "nbconvert_exporter": "python",
      "pygments_lexer": "ipython3",
      "version": "3.7.2"
    },
    "colab": {
      "name": "CN_ProjectAssignment_1.ipynb",
      "provenance": [],
      "collapsed_sections": [
        "AqTmX9-hd79O"
      ],
      "toc_visible": true
    },
    "accelerator": "GPU"
  },
  "nbformat": 4,
  "nbformat_minor": 0
}